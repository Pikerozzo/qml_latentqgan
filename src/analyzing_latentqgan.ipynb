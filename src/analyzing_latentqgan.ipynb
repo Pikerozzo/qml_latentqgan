{
  "cells": [
    {
      "cell_type": "markdown",
      "metadata": {
        "id": "RfoIUBpqmfyZ"
      },
      "source": [
        "# Analyzing LatentQGAN: A Hybrid Quantum-Classical GAN with Autoencoders\n",
        "\n",
        "Generative models have achieved significant success in capturing complex data distributions and generating realistic samples across various domains. However, training these models, particularly Generative Adversarial Networks (GANs), remains computationally demanding, especially for high-dimensional data. Quantum computing offers a promising avenue to address these challenges by leveraging principles such as superposition and entanglement. In this context, LatentQGAN integrates classical and quantum computing to enhance GAN training, enabling the generation of more expressive and complex data distributions beyond the capabilities of purely classical approaches."
      ]
    },
    {
      "cell_type": "code",
      "execution_count": null,
      "metadata": {
        "colab": {
          "base_uri": "https://localhost:8080/"
        },
        "collapsed": true,
        "id": "fPBGFiFhlQuX",
        "outputId": "d82fd841-23e6-4dad-f223-8437538ae95e"
      },
      "outputs": [],
      "source": [
        "!pip install qiskit qiskit-ibm-runtime pylatexenc qiskit-aer qiskit_machine_learning\n",
        "!pip install torchinfo"
      ]
    },
    {
      "cell_type": "code",
      "execution_count": 2,
      "metadata": {
        "colab": {
          "base_uri": "https://localhost:8080/"
        },
        "id": "x3Wo_xxrxHyO",
        "outputId": "8f212207-144a-4974-fd11-b8fb7c87a74e"
      },
      "outputs": [
        {
          "name": "stdout",
          "output_type": "stream",
          "text": [
            "Using device: cuda\n"
          ]
        }
      ],
      "source": [
        "from qiskit import QuantumCircuit\n",
        "from qiskit.circuit import ParameterVector\n",
        "from qiskit_machine_learning.connectors import TorchConnector\n",
        "from qiskit_machine_learning.neural_networks import SamplerQNN\n",
        "from qiskit_machine_learning.gradients import ParamShiftSamplerGradient\n",
        "from qiskit.primitives import StatevectorSampler as Sampler\n",
        "\n",
        "\n",
        "import torch\n",
        "import torch.nn as nn\n",
        "import torch.nn.parallel\n",
        "import torch.optim as optim\n",
        "import torch.utils.data\n",
        "import torchvision.datasets as datasets\n",
        "import torchvision.transforms as transforms\n",
        "import matplotlib.pyplot as plt\n",
        "\n",
        "from torchinfo import summary\n",
        "from rich.console import Console\n",
        "\n",
        "device = 'cpu'\n",
        "if torch.cuda.is_available():\n",
        "  device = 'cuda'\n",
        "print(f'Using device: {device}')"
      ]
    },
    {
      "cell_type": "markdown",
      "metadata": {
        "id": "wyD7LZb8l3Uv"
      },
      "source": [
        "# Latent-QGAN"
      ]
    },
    {
      "cell_type": "markdown",
      "metadata": {
        "id": "inqQzS9dlzpZ"
      },
      "source": [
        "## Quantum Generator"
      ]
    },
    {
      "cell_type": "code",
      "execution_count": 3,
      "metadata": {
        "id": "SuCDjbV-K257"
      },
      "outputs": [],
      "source": [
        "class QGenerator(nn.Module):\n",
        "  def __init__(self, num_circuits=5, num_qubits=4, num_layers=7):\n",
        "    \"\"\"\n",
        "    Quantum Generator using Qiskit SamplerQNN and TorchConnector.\n",
        "    Args:\n",
        "        num_circuits: Number of independent quantum circuits.\n",
        "        num_qubits: Number of qubits per circuit.\n",
        "        num_layers: Number of variational layers.\n",
        "    \"\"\"\n",
        "    super().__init__()\n",
        "\n",
        "    self.num_circuits = num_circuits\n",
        "    self.num_qubits = num_qubits\n",
        "    self.num_layers = num_layers\n",
        "    # 2048 runs\n",
        "    self.sampler = Sampler(default_shots=2**11)\n",
        "\n",
        "    # classical input parameters (random noise)\n",
        "    self.alpha_params = [ParameterVector(f'alpha_{i}', num_qubits) for i in range(num_circuits)]\n",
        "\n",
        "    # trainable parameters\n",
        "    self.theta_params = [ParameterVector(f'theta_{i}', num_layers * num_qubits) for i in range(num_circuits)]\n",
        "\n",
        "    # create a list of parameterized quantum circuits\n",
        "    self.qc_list = [self.__create_param_circuit(i) for i in range(num_circuits)]\n",
        "\n",
        "\n",
        "    # define QNNs and Torch Connectors for each sub-circuit\n",
        "    self.generators = torch.nn.ModuleList([\n",
        "      TorchConnector(\n",
        "        SamplerQNN(\n",
        "          circuit=self.qc_list[i],\n",
        "          sampler=self.sampler,\n",
        "          input_params=self.alpha_params[i].params,\n",
        "          weight_params=self.theta_params[i].params,\n",
        "          sparse=False,\n",
        "          gradient=ParamShiftSamplerGradient(self.sampler),\n",
        "          input_gradients=True\n",
        "        ),\n",
        "        torch.rand((self.num_layers*self.num_qubits))*(2 * torch.pi) * 0.1\n",
        "      )\n",
        "      for i in range(num_circuits)\n",
        "    ])\n",
        "\n",
        "  def __create_param_circuit(self, circuit_id):\n",
        "    \"\"\"Create a parameterized quantum circuit with RY layers and CZ entanglement.\"\"\"\n",
        "    qc = QuantumCircuit(self.num_qubits, self.num_qubits)\n",
        "\n",
        "    # apply parameterized Ry gates\n",
        "    for qubit in range(self.num_qubits):\n",
        "      qc.ry(self.alpha_params[circuit_id][qubit], qubit)\n",
        "\n",
        "    # add parametrized layers\n",
        "    for layer in range(self.num_layers):\n",
        "      for qubit in range(self.num_qubits):\n",
        "        qc.ry(self.theta_params[circuit_id][layer * self.num_qubits + qubit], qubit)\n",
        "      for i in range(self.num_qubits - 1):\n",
        "        qc.cz(i, i + 1)\n",
        "\n",
        "    qc.measure(range(self.num_qubits), range(self.num_qubits))\n",
        "    return qc\n",
        "\n",
        "  def __post_selection_and_norm(self, results):\n",
        "    \"\"\"\n",
        "    Performs post-selection (where ancilla qubit is '0') and normalizes values.\n",
        "    \"\"\"\n",
        "    # generate bitstrings corresponding to all possible states\n",
        "    bitstrings = [format(i, f'0{self.num_qubits}b') for i in range(2 ** self.num_qubits)]\n",
        "\n",
        "    # find indices where the last qubit (ancilla) is '0'\n",
        "    ancilla_zero_indices = [i for i, b in enumerate(bitstrings) if b[-1] == '0']\n",
        "\n",
        "    # select only the corresponding values from the output tensor\n",
        "    filtered_output = results[:,:, ancilla_zero_indices]\n",
        "\n",
        "    norm_output = filtered_output / (filtered_output.sum(dim=2, keepdim=True) + 1e-10)\n",
        "\n",
        "    return norm_output\n",
        "\n",
        "\n",
        "  def forward(self, noise):\n",
        "    \"\"\"\n",
        "    Generates a batch of latent representations using all sub-circuits.\n",
        "    Returns:\n",
        "        Torch tensor: Generated latent representation.\n",
        "    \"\"\"\n",
        "    # perform forward pass on all noise vectors\n",
        "    results = [gen(noise[:, i, :]) for i, gen in enumerate(self.generators)]\n",
        "\n",
        "    # stack the results from all generators, resulting in shape [batch_size, num_circuits, ...]\n",
        "    stacked_results = torch.stack(results, dim=1)\n",
        "\n",
        "    # apply post-selection and normalization (if necessary)\n",
        "    return self.__post_selection_and_norm(stacked_results)"
      ]
    },
    {
      "cell_type": "markdown",
      "metadata": {
        "id": "RvFnuxLcl9ud"
      },
      "source": [
        "## Classical Discriminator"
      ]
    },
    {
      "cell_type": "code",
      "execution_count": 5,
      "metadata": {
        "id": "jAcMx2cNmEil"
      },
      "outputs": [],
      "source": [
        "class Discriminator(nn.Module):\n",
        "  def __init__(self, input_size):\n",
        "    super(Discriminator, self).__init__()\n",
        "    self.layers = nn.Sequential(\n",
        "      nn.Flatten(start_dim=1),\n",
        "      nn.Linear(input_size, 64),\n",
        "      nn.LeakyReLU(),\n",
        "      nn.Linear(64, 16),\n",
        "      nn.LeakyReLU(),\n",
        "      nn.Linear(16, 1),\n",
        "      nn.Sigmoid()\n",
        "    )\n",
        "\n",
        "  def forward(self, x):\n",
        "    return self.layers(x)"
      ]
    },
    {
      "cell_type": "markdown",
      "metadata": {
        "id": "sGb7Awp4l7Tr"
      },
      "source": [
        "## AutoEncoder"
      ]
    },
    {
      "cell_type": "code",
      "execution_count": 4,
      "metadata": {
        "id": "XjU2aSP8mBwV"
      },
      "outputs": [],
      "source": [
        "class AutoEncoder(nn.Module):\n",
        "  def __init__(self):\n",
        "    super(AutoEncoder, self).__init__()\n",
        "\n",
        "    self.__encoder = nn.Sequential(\n",
        "      nn.Conv2d(in_channels=1, out_channels=4, kernel_size=5, stride=1, padding=0),\n",
        "      nn.ReLU(),\n",
        "      nn.Conv2d(in_channels=4, out_channels=8, kernel_size=5, stride=1, padding=0),\n",
        "      nn.ReLU(),\n",
        "      nn.Conv2d(in_channels=8, out_channels=4, kernel_size=5, stride=(4,2), padding=(1,0)),\n",
        "      nn.ReLU(),\n",
        "      nn.Flatten(start_dim=1),\n",
        "      nn.Linear(160,40),\n",
        "      nn.ReLU(),\n",
        "      nn.Linear(40,40),\n",
        "      nn.ReLU())\n",
        "\n",
        "    self.__decoder = nn.Sequential(\n",
        "      nn.Flatten(start_dim=1),\n",
        "      nn.Linear(40,400),\n",
        "      nn.ReLU(),\n",
        "      nn.Linear(400,4000),\n",
        "      nn.ReLU(),\n",
        "      nn.Unflatten(dim=1, unflattened_size=(10,20,20)),\n",
        "      nn.ConvTranspose2d(in_channels=10, out_channels=10, kernel_size=5, stride=1, padding=0),\n",
        "      nn.ReLU(),\n",
        "      nn.ConvTranspose2d(in_channels=10, out_channels=1, kernel_size=5, stride=1, padding=0),\n",
        "      nn.Sigmoid())\n",
        "\n",
        "\n",
        "  # extract latent representation of input image\n",
        "  def encode(self, x):\n",
        "\n",
        "    result = self.__encoder(x).view(x.shape[0],1,5,8)\n",
        "\n",
        "    # normalize s.t. rows sum up to 1\n",
        "    result = result / (torch.sum(result, dim=2) + 1e-8).unsqueeze(2)\n",
        "\n",
        "    return result\n",
        "\n",
        "  # reconstruc image from input latent\n",
        "  def decode(self, x):\n",
        "    return self.__decoder(x)\n",
        "\n",
        "  # perform complete forward pass (encoding and decoding)\n",
        "  def forward(self, x):\n",
        "    return self.decode(self.encode(x))"
      ]
    },
    {
      "cell_type": "markdown",
      "metadata": {
        "id": "AeCpzDSbiecQ"
      },
      "source": [
        "## View used models size"
      ]
    },
    {
      "cell_type": "code",
      "execution_count": 10,
      "metadata": {
        "colab": {
          "base_uri": "https://localhost:8080/",
          "height": 1000
        },
        "id": "ChN8jbrUiiB2",
        "outputId": "28698921-ab68-4434-ccda-f4d5a7bf54c8"
      },
      "outputs": [
        {
          "data": {
            "text/html": [
              "<pre style=\"white-space:pre;overflow-x:auto;line-height:normal;font-family:Menlo,'DejaVu Sans Mono',consolas,'Courier New',monospace\">===================================================================================================================\n",
              "Layer <span style=\"font-weight: bold\">(</span>type <span style=\"font-weight: bold\">(</span>var_name<span style=\"font-weight: bold\">))</span>                  Input Shape               Output Shape              Param #\n",
              "===================================================================================================================\n",
              "QGenerator <span style=\"font-weight: bold\">(</span>QGenerator<span style=\"font-weight: bold\">)</span>                  <span style=\"font-weight: bold\">[</span><span style=\"color: #008080; text-decoration-color: #008080; font-weight: bold\">1</span>, <span style=\"color: #008080; text-decoration-color: #008080; font-weight: bold\">5</span>, <span style=\"color: #008080; text-decoration-color: #008080; font-weight: bold\">4</span><span style=\"font-weight: bold\">]</span>                 <span style=\"font-weight: bold\">[</span><span style=\"color: #008080; text-decoration-color: #008080; font-weight: bold\">1</span>, <span style=\"color: #008080; text-decoration-color: #008080; font-weight: bold\">5</span>, <span style=\"color: #008080; text-decoration-color: #008080; font-weight: bold\">8</span><span style=\"font-weight: bold\">]</span>                 --\n",
              "├─ModuleList <span style=\"font-weight: bold\">(</span>generators<span style=\"font-weight: bold\">)</span>                --                        --                        --\n",
              "│    └─TorchConnector <span style=\"font-weight: bold\">(</span><span style=\"color: #008080; text-decoration-color: #008080; font-weight: bold\">0</span><span style=\"font-weight: bold\">)</span>                <span style=\"font-weight: bold\">[</span><span style=\"color: #008080; text-decoration-color: #008080; font-weight: bold\">1</span>, <span style=\"color: #008080; text-decoration-color: #008080; font-weight: bold\">4</span><span style=\"font-weight: bold\">]</span>                    <span style=\"font-weight: bold\">[</span><span style=\"color: #008080; text-decoration-color: #008080; font-weight: bold\">1</span>, <span style=\"color: #008080; text-decoration-color: #008080; font-weight: bold\">16</span><span style=\"font-weight: bold\">]</span>                   <span style=\"color: #008080; text-decoration-color: #008080; font-weight: bold\">28</span>\n",
              "│    └─TorchConnector <span style=\"font-weight: bold\">(</span><span style=\"color: #008080; text-decoration-color: #008080; font-weight: bold\">1</span><span style=\"font-weight: bold\">)</span>                <span style=\"font-weight: bold\">[</span><span style=\"color: #008080; text-decoration-color: #008080; font-weight: bold\">1</span>, <span style=\"color: #008080; text-decoration-color: #008080; font-weight: bold\">4</span><span style=\"font-weight: bold\">]</span>                    <span style=\"font-weight: bold\">[</span><span style=\"color: #008080; text-decoration-color: #008080; font-weight: bold\">1</span>, <span style=\"color: #008080; text-decoration-color: #008080; font-weight: bold\">16</span><span style=\"font-weight: bold\">]</span>                   <span style=\"color: #008080; text-decoration-color: #008080; font-weight: bold\">28</span>\n",
              "│    └─TorchConnector <span style=\"font-weight: bold\">(</span><span style=\"color: #008080; text-decoration-color: #008080; font-weight: bold\">2</span><span style=\"font-weight: bold\">)</span>                <span style=\"font-weight: bold\">[</span><span style=\"color: #008080; text-decoration-color: #008080; font-weight: bold\">1</span>, <span style=\"color: #008080; text-decoration-color: #008080; font-weight: bold\">4</span><span style=\"font-weight: bold\">]</span>                    <span style=\"font-weight: bold\">[</span><span style=\"color: #008080; text-decoration-color: #008080; font-weight: bold\">1</span>, <span style=\"color: #008080; text-decoration-color: #008080; font-weight: bold\">16</span><span style=\"font-weight: bold\">]</span>                   <span style=\"color: #008080; text-decoration-color: #008080; font-weight: bold\">28</span>\n",
              "│    └─TorchConnector <span style=\"font-weight: bold\">(</span><span style=\"color: #008080; text-decoration-color: #008080; font-weight: bold\">3</span><span style=\"font-weight: bold\">)</span>                <span style=\"font-weight: bold\">[</span><span style=\"color: #008080; text-decoration-color: #008080; font-weight: bold\">1</span>, <span style=\"color: #008080; text-decoration-color: #008080; font-weight: bold\">4</span><span style=\"font-weight: bold\">]</span>                    <span style=\"font-weight: bold\">[</span><span style=\"color: #008080; text-decoration-color: #008080; font-weight: bold\">1</span>, <span style=\"color: #008080; text-decoration-color: #008080; font-weight: bold\">16</span><span style=\"font-weight: bold\">]</span>                   <span style=\"color: #008080; text-decoration-color: #008080; font-weight: bold\">28</span>\n",
              "│    └─TorchConnector <span style=\"font-weight: bold\">(</span><span style=\"color: #008080; text-decoration-color: #008080; font-weight: bold\">4</span><span style=\"font-weight: bold\">)</span>                <span style=\"font-weight: bold\">[</span><span style=\"color: #008080; text-decoration-color: #008080; font-weight: bold\">1</span>, <span style=\"color: #008080; text-decoration-color: #008080; font-weight: bold\">4</span><span style=\"font-weight: bold\">]</span>                    <span style=\"font-weight: bold\">[</span><span style=\"color: #008080; text-decoration-color: #008080; font-weight: bold\">1</span>, <span style=\"color: #008080; text-decoration-color: #008080; font-weight: bold\">16</span><span style=\"font-weight: bold\">]</span>                   <span style=\"color: #008080; text-decoration-color: #008080; font-weight: bold\">28</span>\n",
              "===================================================================================================================\n",
              "Total params: <span style=\"color: #008080; text-decoration-color: #008080; font-weight: bold\">140</span>\n",
              "Trainable params: <span style=\"color: #008080; text-decoration-color: #008080; font-weight: bold\">140</span>\n",
              "Non-trainable params: <span style=\"color: #008080; text-decoration-color: #008080; font-weight: bold\">0</span>\n",
              "Total mult-adds <span style=\"font-weight: bold\">(</span>Units.MEGABYTES<span style=\"font-weight: bold\">)</span>: <span style=\"color: #008080; text-decoration-color: #008080; font-weight: bold\">0.00</span>\n",
              "===================================================================================================================\n",
              "Input size <span style=\"font-weight: bold\">(</span>MB<span style=\"font-weight: bold\">)</span>: <span style=\"color: #008080; text-decoration-color: #008080; font-weight: bold\">0.00</span>\n",
              "Forward/backward pass size <span style=\"font-weight: bold\">(</span>MB<span style=\"font-weight: bold\">)</span>: <span style=\"color: #008080; text-decoration-color: #008080; font-weight: bold\">0.00</span>\n",
              "Params size <span style=\"font-weight: bold\">(</span>MB<span style=\"font-weight: bold\">)</span>: <span style=\"color: #008080; text-decoration-color: #008080; font-weight: bold\">0.00</span>\n",
              "Estimated Total Size <span style=\"font-weight: bold\">(</span>MB<span style=\"font-weight: bold\">)</span>: <span style=\"color: #008080; text-decoration-color: #008080; font-weight: bold\">0.00</span>\n",
              "===================================================================================================================\n",
              "</pre>\n"
            ],
            "text/plain": [
              "===================================================================================================================\n",
              "Layer \u001b[1m(\u001b[0mtype \u001b[1m(\u001b[0mvar_name\u001b[1m)\u001b[0m\u001b[1m)\u001b[0m                  Input Shape               Output Shape              Param #\n",
              "===================================================================================================================\n",
              "QGenerator \u001b[1m(\u001b[0mQGenerator\u001b[1m)\u001b[0m                  \u001b[1m[\u001b[0m\u001b[1;36m1\u001b[0m, \u001b[1;36m5\u001b[0m, \u001b[1;36m4\u001b[0m\u001b[1m]\u001b[0m                 \u001b[1m[\u001b[0m\u001b[1;36m1\u001b[0m, \u001b[1;36m5\u001b[0m, \u001b[1;36m8\u001b[0m\u001b[1m]\u001b[0m                 --\n",
              "├─ModuleList \u001b[1m(\u001b[0mgenerators\u001b[1m)\u001b[0m                --                        --                        --\n",
              "│    └─TorchConnector \u001b[1m(\u001b[0m\u001b[1;36m0\u001b[0m\u001b[1m)\u001b[0m                \u001b[1m[\u001b[0m\u001b[1;36m1\u001b[0m, \u001b[1;36m4\u001b[0m\u001b[1m]\u001b[0m                    \u001b[1m[\u001b[0m\u001b[1;36m1\u001b[0m, \u001b[1;36m16\u001b[0m\u001b[1m]\u001b[0m                   \u001b[1;36m28\u001b[0m\n",
              "│    └─TorchConnector \u001b[1m(\u001b[0m\u001b[1;36m1\u001b[0m\u001b[1m)\u001b[0m                \u001b[1m[\u001b[0m\u001b[1;36m1\u001b[0m, \u001b[1;36m4\u001b[0m\u001b[1m]\u001b[0m                    \u001b[1m[\u001b[0m\u001b[1;36m1\u001b[0m, \u001b[1;36m16\u001b[0m\u001b[1m]\u001b[0m                   \u001b[1;36m28\u001b[0m\n",
              "│    └─TorchConnector \u001b[1m(\u001b[0m\u001b[1;36m2\u001b[0m\u001b[1m)\u001b[0m                \u001b[1m[\u001b[0m\u001b[1;36m1\u001b[0m, \u001b[1;36m4\u001b[0m\u001b[1m]\u001b[0m                    \u001b[1m[\u001b[0m\u001b[1;36m1\u001b[0m, \u001b[1;36m16\u001b[0m\u001b[1m]\u001b[0m                   \u001b[1;36m28\u001b[0m\n",
              "│    └─TorchConnector \u001b[1m(\u001b[0m\u001b[1;36m3\u001b[0m\u001b[1m)\u001b[0m                \u001b[1m[\u001b[0m\u001b[1;36m1\u001b[0m, \u001b[1;36m4\u001b[0m\u001b[1m]\u001b[0m                    \u001b[1m[\u001b[0m\u001b[1;36m1\u001b[0m, \u001b[1;36m16\u001b[0m\u001b[1m]\u001b[0m                   \u001b[1;36m28\u001b[0m\n",
              "│    └─TorchConnector \u001b[1m(\u001b[0m\u001b[1;36m4\u001b[0m\u001b[1m)\u001b[0m                \u001b[1m[\u001b[0m\u001b[1;36m1\u001b[0m, \u001b[1;36m4\u001b[0m\u001b[1m]\u001b[0m                    \u001b[1m[\u001b[0m\u001b[1;36m1\u001b[0m, \u001b[1;36m16\u001b[0m\u001b[1m]\u001b[0m                   \u001b[1;36m28\u001b[0m\n",
              "===================================================================================================================\n",
              "Total params: \u001b[1;36m140\u001b[0m\n",
              "Trainable params: \u001b[1;36m140\u001b[0m\n",
              "Non-trainable params: \u001b[1;36m0\u001b[0m\n",
              "Total mult-adds \u001b[1m(\u001b[0mUnits.MEGABYTES\u001b[1m)\u001b[0m: \u001b[1;36m0.00\u001b[0m\n",
              "===================================================================================================================\n",
              "Input size \u001b[1m(\u001b[0mMB\u001b[1m)\u001b[0m: \u001b[1;36m0.00\u001b[0m\n",
              "Forward/backward pass size \u001b[1m(\u001b[0mMB\u001b[1m)\u001b[0m: \u001b[1;36m0.00\u001b[0m\n",
              "Params size \u001b[1m(\u001b[0mMB\u001b[1m)\u001b[0m: \u001b[1;36m0.00\u001b[0m\n",
              "Estimated Total Size \u001b[1m(\u001b[0mMB\u001b[1m)\u001b[0m: \u001b[1;36m0.00\u001b[0m\n",
              "===================================================================================================================\n"
            ]
          },
          "metadata": {},
          "output_type": "display_data"
        },
        {
          "name": "stdout",
          "output_type": "stream",
          "text": [
            "\n",
            "+-+-+-+-+-+-+-+-+-+-\n",
            "\n"
          ]
        },
        {
          "data": {
            "text/html": [
              "<pre style=\"white-space:pre;overflow-x:auto;line-height:normal;font-family:Menlo,'DejaVu Sans Mono',consolas,'Courier New',monospace\">===================================================================================================================\n",
              "Layer <span style=\"font-weight: bold\">(</span>type <span style=\"font-weight: bold\">(</span>var_name<span style=\"font-weight: bold\">))</span>                  Input Shape               Output Shape              Param #\n",
              "===================================================================================================================\n",
              "Discriminator <span style=\"font-weight: bold\">(</span>Discriminator<span style=\"font-weight: bold\">)</span>            <span style=\"font-weight: bold\">[</span><span style=\"color: #008080; text-decoration-color: #008080; font-weight: bold\">1</span>, <span style=\"color: #008080; text-decoration-color: #008080; font-weight: bold\">40</span><span style=\"font-weight: bold\">]</span>                   <span style=\"font-weight: bold\">[</span><span style=\"color: #008080; text-decoration-color: #008080; font-weight: bold\">1</span>, <span style=\"color: #008080; text-decoration-color: #008080; font-weight: bold\">1</span><span style=\"font-weight: bold\">]</span>                    --\n",
              "├─Sequential <span style=\"font-weight: bold\">(</span>layers<span style=\"font-weight: bold\">)</span>                    <span style=\"font-weight: bold\">[</span><span style=\"color: #008080; text-decoration-color: #008080; font-weight: bold\">1</span>, <span style=\"color: #008080; text-decoration-color: #008080; font-weight: bold\">40</span><span style=\"font-weight: bold\">]</span>                   <span style=\"font-weight: bold\">[</span><span style=\"color: #008080; text-decoration-color: #008080; font-weight: bold\">1</span>, <span style=\"color: #008080; text-decoration-color: #008080; font-weight: bold\">1</span><span style=\"font-weight: bold\">]</span>                    --\n",
              "│    └─Flatten <span style=\"font-weight: bold\">(</span><span style=\"color: #008080; text-decoration-color: #008080; font-weight: bold\">0</span><span style=\"font-weight: bold\">)</span>                       <span style=\"font-weight: bold\">[</span><span style=\"color: #008080; text-decoration-color: #008080; font-weight: bold\">1</span>, <span style=\"color: #008080; text-decoration-color: #008080; font-weight: bold\">40</span><span style=\"font-weight: bold\">]</span>                   <span style=\"font-weight: bold\">[</span><span style=\"color: #008080; text-decoration-color: #008080; font-weight: bold\">1</span>, <span style=\"color: #008080; text-decoration-color: #008080; font-weight: bold\">40</span><span style=\"font-weight: bold\">]</span>                   --\n",
              "│    └─Linear <span style=\"font-weight: bold\">(</span><span style=\"color: #008080; text-decoration-color: #008080; font-weight: bold\">1</span><span style=\"font-weight: bold\">)</span>                        <span style=\"font-weight: bold\">[</span><span style=\"color: #008080; text-decoration-color: #008080; font-weight: bold\">1</span>, <span style=\"color: #008080; text-decoration-color: #008080; font-weight: bold\">40</span><span style=\"font-weight: bold\">]</span>                   <span style=\"font-weight: bold\">[</span><span style=\"color: #008080; text-decoration-color: #008080; font-weight: bold\">1</span>, <span style=\"color: #008080; text-decoration-color: #008080; font-weight: bold\">64</span><span style=\"font-weight: bold\">]</span>                   <span style=\"color: #008080; text-decoration-color: #008080; font-weight: bold\">2</span>,<span style=\"color: #008080; text-decoration-color: #008080; font-weight: bold\">624</span>\n",
              "│    └─LeakyReLU <span style=\"font-weight: bold\">(</span><span style=\"color: #008080; text-decoration-color: #008080; font-weight: bold\">2</span><span style=\"font-weight: bold\">)</span>                     <span style=\"font-weight: bold\">[</span><span style=\"color: #008080; text-decoration-color: #008080; font-weight: bold\">1</span>, <span style=\"color: #008080; text-decoration-color: #008080; font-weight: bold\">64</span><span style=\"font-weight: bold\">]</span>                   <span style=\"font-weight: bold\">[</span><span style=\"color: #008080; text-decoration-color: #008080; font-weight: bold\">1</span>, <span style=\"color: #008080; text-decoration-color: #008080; font-weight: bold\">64</span><span style=\"font-weight: bold\">]</span>                   --\n",
              "│    └─Linear <span style=\"font-weight: bold\">(</span><span style=\"color: #008080; text-decoration-color: #008080; font-weight: bold\">3</span><span style=\"font-weight: bold\">)</span>                        <span style=\"font-weight: bold\">[</span><span style=\"color: #008080; text-decoration-color: #008080; font-weight: bold\">1</span>, <span style=\"color: #008080; text-decoration-color: #008080; font-weight: bold\">64</span><span style=\"font-weight: bold\">]</span>                   <span style=\"font-weight: bold\">[</span><span style=\"color: #008080; text-decoration-color: #008080; font-weight: bold\">1</span>, <span style=\"color: #008080; text-decoration-color: #008080; font-weight: bold\">16</span><span style=\"font-weight: bold\">]</span>                   <span style=\"color: #008080; text-decoration-color: #008080; font-weight: bold\">1</span>,<span style=\"color: #008080; text-decoration-color: #008080; font-weight: bold\">040</span>\n",
              "│    └─LeakyReLU <span style=\"font-weight: bold\">(</span><span style=\"color: #008080; text-decoration-color: #008080; font-weight: bold\">4</span><span style=\"font-weight: bold\">)</span>                     <span style=\"font-weight: bold\">[</span><span style=\"color: #008080; text-decoration-color: #008080; font-weight: bold\">1</span>, <span style=\"color: #008080; text-decoration-color: #008080; font-weight: bold\">16</span><span style=\"font-weight: bold\">]</span>                   <span style=\"font-weight: bold\">[</span><span style=\"color: #008080; text-decoration-color: #008080; font-weight: bold\">1</span>, <span style=\"color: #008080; text-decoration-color: #008080; font-weight: bold\">16</span><span style=\"font-weight: bold\">]</span>                   --\n",
              "│    └─Linear <span style=\"font-weight: bold\">(</span><span style=\"color: #008080; text-decoration-color: #008080; font-weight: bold\">5</span><span style=\"font-weight: bold\">)</span>                        <span style=\"font-weight: bold\">[</span><span style=\"color: #008080; text-decoration-color: #008080; font-weight: bold\">1</span>, <span style=\"color: #008080; text-decoration-color: #008080; font-weight: bold\">16</span><span style=\"font-weight: bold\">]</span>                   <span style=\"font-weight: bold\">[</span><span style=\"color: #008080; text-decoration-color: #008080; font-weight: bold\">1</span>, <span style=\"color: #008080; text-decoration-color: #008080; font-weight: bold\">1</span><span style=\"font-weight: bold\">]</span>                    <span style=\"color: #008080; text-decoration-color: #008080; font-weight: bold\">17</span>\n",
              "│    └─Sigmoid <span style=\"font-weight: bold\">(</span><span style=\"color: #008080; text-decoration-color: #008080; font-weight: bold\">6</span><span style=\"font-weight: bold\">)</span>                       <span style=\"font-weight: bold\">[</span><span style=\"color: #008080; text-decoration-color: #008080; font-weight: bold\">1</span>, <span style=\"color: #008080; text-decoration-color: #008080; font-weight: bold\">1</span><span style=\"font-weight: bold\">]</span>                    <span style=\"font-weight: bold\">[</span><span style=\"color: #008080; text-decoration-color: #008080; font-weight: bold\">1</span>, <span style=\"color: #008080; text-decoration-color: #008080; font-weight: bold\">1</span><span style=\"font-weight: bold\">]</span>                    --\n",
              "===================================================================================================================\n",
              "Total params: <span style=\"color: #008080; text-decoration-color: #008080; font-weight: bold\">3</span>,<span style=\"color: #008080; text-decoration-color: #008080; font-weight: bold\">681</span>\n",
              "Trainable params: <span style=\"color: #008080; text-decoration-color: #008080; font-weight: bold\">3</span>,<span style=\"color: #008080; text-decoration-color: #008080; font-weight: bold\">681</span>\n",
              "Non-trainable params: <span style=\"color: #008080; text-decoration-color: #008080; font-weight: bold\">0</span>\n",
              "Total mult-adds <span style=\"font-weight: bold\">(</span>Units.MEGABYTES<span style=\"font-weight: bold\">)</span>: <span style=\"color: #008080; text-decoration-color: #008080; font-weight: bold\">0.00</span>\n",
              "===================================================================================================================\n",
              "Input size <span style=\"font-weight: bold\">(</span>MB<span style=\"font-weight: bold\">)</span>: <span style=\"color: #008080; text-decoration-color: #008080; font-weight: bold\">0.00</span>\n",
              "Forward/backward pass size <span style=\"font-weight: bold\">(</span>MB<span style=\"font-weight: bold\">)</span>: <span style=\"color: #008080; text-decoration-color: #008080; font-weight: bold\">0.00</span>\n",
              "Params size <span style=\"font-weight: bold\">(</span>MB<span style=\"font-weight: bold\">)</span>: <span style=\"color: #008080; text-decoration-color: #008080; font-weight: bold\">0.01</span>\n",
              "Estimated Total Size <span style=\"font-weight: bold\">(</span>MB<span style=\"font-weight: bold\">)</span>: <span style=\"color: #008080; text-decoration-color: #008080; font-weight: bold\">0.02</span>\n",
              "===================================================================================================================\n",
              "</pre>\n"
            ],
            "text/plain": [
              "===================================================================================================================\n",
              "Layer \u001b[1m(\u001b[0mtype \u001b[1m(\u001b[0mvar_name\u001b[1m)\u001b[0m\u001b[1m)\u001b[0m                  Input Shape               Output Shape              Param #\n",
              "===================================================================================================================\n",
              "Discriminator \u001b[1m(\u001b[0mDiscriminator\u001b[1m)\u001b[0m            \u001b[1m[\u001b[0m\u001b[1;36m1\u001b[0m, \u001b[1;36m40\u001b[0m\u001b[1m]\u001b[0m                   \u001b[1m[\u001b[0m\u001b[1;36m1\u001b[0m, \u001b[1;36m1\u001b[0m\u001b[1m]\u001b[0m                    --\n",
              "├─Sequential \u001b[1m(\u001b[0mlayers\u001b[1m)\u001b[0m                    \u001b[1m[\u001b[0m\u001b[1;36m1\u001b[0m, \u001b[1;36m40\u001b[0m\u001b[1m]\u001b[0m                   \u001b[1m[\u001b[0m\u001b[1;36m1\u001b[0m, \u001b[1;36m1\u001b[0m\u001b[1m]\u001b[0m                    --\n",
              "│    └─Flatten \u001b[1m(\u001b[0m\u001b[1;36m0\u001b[0m\u001b[1m)\u001b[0m                       \u001b[1m[\u001b[0m\u001b[1;36m1\u001b[0m, \u001b[1;36m40\u001b[0m\u001b[1m]\u001b[0m                   \u001b[1m[\u001b[0m\u001b[1;36m1\u001b[0m, \u001b[1;36m40\u001b[0m\u001b[1m]\u001b[0m                   --\n",
              "│    └─Linear \u001b[1m(\u001b[0m\u001b[1;36m1\u001b[0m\u001b[1m)\u001b[0m                        \u001b[1m[\u001b[0m\u001b[1;36m1\u001b[0m, \u001b[1;36m40\u001b[0m\u001b[1m]\u001b[0m                   \u001b[1m[\u001b[0m\u001b[1;36m1\u001b[0m, \u001b[1;36m64\u001b[0m\u001b[1m]\u001b[0m                   \u001b[1;36m2\u001b[0m,\u001b[1;36m624\u001b[0m\n",
              "│    └─LeakyReLU \u001b[1m(\u001b[0m\u001b[1;36m2\u001b[0m\u001b[1m)\u001b[0m                     \u001b[1m[\u001b[0m\u001b[1;36m1\u001b[0m, \u001b[1;36m64\u001b[0m\u001b[1m]\u001b[0m                   \u001b[1m[\u001b[0m\u001b[1;36m1\u001b[0m, \u001b[1;36m64\u001b[0m\u001b[1m]\u001b[0m                   --\n",
              "│    └─Linear \u001b[1m(\u001b[0m\u001b[1;36m3\u001b[0m\u001b[1m)\u001b[0m                        \u001b[1m[\u001b[0m\u001b[1;36m1\u001b[0m, \u001b[1;36m64\u001b[0m\u001b[1m]\u001b[0m                   \u001b[1m[\u001b[0m\u001b[1;36m1\u001b[0m, \u001b[1;36m16\u001b[0m\u001b[1m]\u001b[0m                   \u001b[1;36m1\u001b[0m,\u001b[1;36m040\u001b[0m\n",
              "│    └─LeakyReLU \u001b[1m(\u001b[0m\u001b[1;36m4\u001b[0m\u001b[1m)\u001b[0m                     \u001b[1m[\u001b[0m\u001b[1;36m1\u001b[0m, \u001b[1;36m16\u001b[0m\u001b[1m]\u001b[0m                   \u001b[1m[\u001b[0m\u001b[1;36m1\u001b[0m, \u001b[1;36m16\u001b[0m\u001b[1m]\u001b[0m                   --\n",
              "│    └─Linear \u001b[1m(\u001b[0m\u001b[1;36m5\u001b[0m\u001b[1m)\u001b[0m                        \u001b[1m[\u001b[0m\u001b[1;36m1\u001b[0m, \u001b[1;36m16\u001b[0m\u001b[1m]\u001b[0m                   \u001b[1m[\u001b[0m\u001b[1;36m1\u001b[0m, \u001b[1;36m1\u001b[0m\u001b[1m]\u001b[0m                    \u001b[1;36m17\u001b[0m\n",
              "│    └─Sigmoid \u001b[1m(\u001b[0m\u001b[1;36m6\u001b[0m\u001b[1m)\u001b[0m                       \u001b[1m[\u001b[0m\u001b[1;36m1\u001b[0m, \u001b[1;36m1\u001b[0m\u001b[1m]\u001b[0m                    \u001b[1m[\u001b[0m\u001b[1;36m1\u001b[0m, \u001b[1;36m1\u001b[0m\u001b[1m]\u001b[0m                    --\n",
              "===================================================================================================================\n",
              "Total params: \u001b[1;36m3\u001b[0m,\u001b[1;36m681\u001b[0m\n",
              "Trainable params: \u001b[1;36m3\u001b[0m,\u001b[1;36m681\u001b[0m\n",
              "Non-trainable params: \u001b[1;36m0\u001b[0m\n",
              "Total mult-adds \u001b[1m(\u001b[0mUnits.MEGABYTES\u001b[1m)\u001b[0m: \u001b[1;36m0.00\u001b[0m\n",
              "===================================================================================================================\n",
              "Input size \u001b[1m(\u001b[0mMB\u001b[1m)\u001b[0m: \u001b[1;36m0.00\u001b[0m\n",
              "Forward/backward pass size \u001b[1m(\u001b[0mMB\u001b[1m)\u001b[0m: \u001b[1;36m0.00\u001b[0m\n",
              "Params size \u001b[1m(\u001b[0mMB\u001b[1m)\u001b[0m: \u001b[1;36m0.01\u001b[0m\n",
              "Estimated Total Size \u001b[1m(\u001b[0mMB\u001b[1m)\u001b[0m: \u001b[1;36m0.02\u001b[0m\n",
              "===================================================================================================================\n"
            ]
          },
          "metadata": {},
          "output_type": "display_data"
        },
        {
          "name": "stdout",
          "output_type": "stream",
          "text": [
            "\n",
            "+-+-+-+-+-+-+-+-+-+-\n",
            "\n"
          ]
        },
        {
          "data": {
            "text/html": [
              "<pre style=\"white-space:pre;overflow-x:auto;line-height:normal;font-family:Menlo,'DejaVu Sans Mono',consolas,'Courier New',monospace\">===================================================================================================================\n",
              "Layer <span style=\"font-weight: bold\">(</span>type <span style=\"font-weight: bold\">(</span>var_name<span style=\"font-weight: bold\">))</span>                  Input Shape               Output Shape              Param #\n",
              "===================================================================================================================\n",
              "AutoEncoder <span style=\"font-weight: bold\">(</span>AutoEncoder<span style=\"font-weight: bold\">)</span>                <span style=\"font-weight: bold\">[</span><span style=\"color: #008080; text-decoration-color: #008080; font-weight: bold\">1</span>, <span style=\"color: #008080; text-decoration-color: #008080; font-weight: bold\">1</span>, <span style=\"color: #008080; text-decoration-color: #008080; font-weight: bold\">28</span>, <span style=\"color: #008080; text-decoration-color: #008080; font-weight: bold\">28</span><span style=\"font-weight: bold\">]</span>            <span style=\"font-weight: bold\">[</span><span style=\"color: #008080; text-decoration-color: #008080; font-weight: bold\">1</span>, <span style=\"color: #008080; text-decoration-color: #008080; font-weight: bold\">1</span>, <span style=\"color: #008080; text-decoration-color: #008080; font-weight: bold\">28</span>, <span style=\"color: #008080; text-decoration-color: #008080; font-weight: bold\">28</span><span style=\"font-weight: bold\">]</span>            --\n",
              "├─Sequential <span style=\"font-weight: bold\">(</span>_AutoEncoder__encoder<span style=\"font-weight: bold\">)</span>     <span style=\"font-weight: bold\">[</span><span style=\"color: #008080; text-decoration-color: #008080; font-weight: bold\">1</span>, <span style=\"color: #008080; text-decoration-color: #008080; font-weight: bold\">1</span>, <span style=\"color: #008080; text-decoration-color: #008080; font-weight: bold\">28</span>, <span style=\"color: #008080; text-decoration-color: #008080; font-weight: bold\">28</span><span style=\"font-weight: bold\">]</span>            <span style=\"font-weight: bold\">[</span><span style=\"color: #008080; text-decoration-color: #008080; font-weight: bold\">1</span>, <span style=\"color: #008080; text-decoration-color: #008080; font-weight: bold\">40</span><span style=\"font-weight: bold\">]</span>                   --\n",
              "│    └─Conv2d <span style=\"font-weight: bold\">(</span><span style=\"color: #008080; text-decoration-color: #008080; font-weight: bold\">0</span><span style=\"font-weight: bold\">)</span>                        <span style=\"font-weight: bold\">[</span><span style=\"color: #008080; text-decoration-color: #008080; font-weight: bold\">1</span>, <span style=\"color: #008080; text-decoration-color: #008080; font-weight: bold\">1</span>, <span style=\"color: #008080; text-decoration-color: #008080; font-weight: bold\">28</span>, <span style=\"color: #008080; text-decoration-color: #008080; font-weight: bold\">28</span><span style=\"font-weight: bold\">]</span>            <span style=\"font-weight: bold\">[</span><span style=\"color: #008080; text-decoration-color: #008080; font-weight: bold\">1</span>, <span style=\"color: #008080; text-decoration-color: #008080; font-weight: bold\">4</span>, <span style=\"color: #008080; text-decoration-color: #008080; font-weight: bold\">24</span>, <span style=\"color: #008080; text-decoration-color: #008080; font-weight: bold\">24</span><span style=\"font-weight: bold\">]</span>            <span style=\"color: #008080; text-decoration-color: #008080; font-weight: bold\">104</span>\n",
              "│    └─ReLU <span style=\"font-weight: bold\">(</span><span style=\"color: #008080; text-decoration-color: #008080; font-weight: bold\">1</span><span style=\"font-weight: bold\">)</span>                          <span style=\"font-weight: bold\">[</span><span style=\"color: #008080; text-decoration-color: #008080; font-weight: bold\">1</span>, <span style=\"color: #008080; text-decoration-color: #008080; font-weight: bold\">4</span>, <span style=\"color: #008080; text-decoration-color: #008080; font-weight: bold\">24</span>, <span style=\"color: #008080; text-decoration-color: #008080; font-weight: bold\">24</span><span style=\"font-weight: bold\">]</span>            <span style=\"font-weight: bold\">[</span><span style=\"color: #008080; text-decoration-color: #008080; font-weight: bold\">1</span>, <span style=\"color: #008080; text-decoration-color: #008080; font-weight: bold\">4</span>, <span style=\"color: #008080; text-decoration-color: #008080; font-weight: bold\">24</span>, <span style=\"color: #008080; text-decoration-color: #008080; font-weight: bold\">24</span><span style=\"font-weight: bold\">]</span>            --\n",
              "│    └─Conv2d <span style=\"font-weight: bold\">(</span><span style=\"color: #008080; text-decoration-color: #008080; font-weight: bold\">2</span><span style=\"font-weight: bold\">)</span>                        <span style=\"font-weight: bold\">[</span><span style=\"color: #008080; text-decoration-color: #008080; font-weight: bold\">1</span>, <span style=\"color: #008080; text-decoration-color: #008080; font-weight: bold\">4</span>, <span style=\"color: #008080; text-decoration-color: #008080; font-weight: bold\">24</span>, <span style=\"color: #008080; text-decoration-color: #008080; font-weight: bold\">24</span><span style=\"font-weight: bold\">]</span>            <span style=\"font-weight: bold\">[</span><span style=\"color: #008080; text-decoration-color: #008080; font-weight: bold\">1</span>, <span style=\"color: #008080; text-decoration-color: #008080; font-weight: bold\">8</span>, <span style=\"color: #008080; text-decoration-color: #008080; font-weight: bold\">20</span>, <span style=\"color: #008080; text-decoration-color: #008080; font-weight: bold\">20</span><span style=\"font-weight: bold\">]</span>            <span style=\"color: #008080; text-decoration-color: #008080; font-weight: bold\">808</span>\n",
              "│    └─ReLU <span style=\"font-weight: bold\">(</span><span style=\"color: #008080; text-decoration-color: #008080; font-weight: bold\">3</span><span style=\"font-weight: bold\">)</span>                          <span style=\"font-weight: bold\">[</span><span style=\"color: #008080; text-decoration-color: #008080; font-weight: bold\">1</span>, <span style=\"color: #008080; text-decoration-color: #008080; font-weight: bold\">8</span>, <span style=\"color: #008080; text-decoration-color: #008080; font-weight: bold\">20</span>, <span style=\"color: #008080; text-decoration-color: #008080; font-weight: bold\">20</span><span style=\"font-weight: bold\">]</span>            <span style=\"font-weight: bold\">[</span><span style=\"color: #008080; text-decoration-color: #008080; font-weight: bold\">1</span>, <span style=\"color: #008080; text-decoration-color: #008080; font-weight: bold\">8</span>, <span style=\"color: #008080; text-decoration-color: #008080; font-weight: bold\">20</span>, <span style=\"color: #008080; text-decoration-color: #008080; font-weight: bold\">20</span><span style=\"font-weight: bold\">]</span>            --\n",
              "│    └─Conv2d <span style=\"font-weight: bold\">(</span><span style=\"color: #008080; text-decoration-color: #008080; font-weight: bold\">4</span><span style=\"font-weight: bold\">)</span>                        <span style=\"font-weight: bold\">[</span><span style=\"color: #008080; text-decoration-color: #008080; font-weight: bold\">1</span>, <span style=\"color: #008080; text-decoration-color: #008080; font-weight: bold\">8</span>, <span style=\"color: #008080; text-decoration-color: #008080; font-weight: bold\">20</span>, <span style=\"color: #008080; text-decoration-color: #008080; font-weight: bold\">20</span><span style=\"font-weight: bold\">]</span>            <span style=\"font-weight: bold\">[</span><span style=\"color: #008080; text-decoration-color: #008080; font-weight: bold\">1</span>, <span style=\"color: #008080; text-decoration-color: #008080; font-weight: bold\">4</span>, <span style=\"color: #008080; text-decoration-color: #008080; font-weight: bold\">5</span>, <span style=\"color: #008080; text-decoration-color: #008080; font-weight: bold\">8</span><span style=\"font-weight: bold\">]</span>              <span style=\"color: #008080; text-decoration-color: #008080; font-weight: bold\">804</span>\n",
              "│    └─ReLU <span style=\"font-weight: bold\">(</span><span style=\"color: #008080; text-decoration-color: #008080; font-weight: bold\">5</span><span style=\"font-weight: bold\">)</span>                          <span style=\"font-weight: bold\">[</span><span style=\"color: #008080; text-decoration-color: #008080; font-weight: bold\">1</span>, <span style=\"color: #008080; text-decoration-color: #008080; font-weight: bold\">4</span>, <span style=\"color: #008080; text-decoration-color: #008080; font-weight: bold\">5</span>, <span style=\"color: #008080; text-decoration-color: #008080; font-weight: bold\">8</span><span style=\"font-weight: bold\">]</span>              <span style=\"font-weight: bold\">[</span><span style=\"color: #008080; text-decoration-color: #008080; font-weight: bold\">1</span>, <span style=\"color: #008080; text-decoration-color: #008080; font-weight: bold\">4</span>, <span style=\"color: #008080; text-decoration-color: #008080; font-weight: bold\">5</span>, <span style=\"color: #008080; text-decoration-color: #008080; font-weight: bold\">8</span><span style=\"font-weight: bold\">]</span>              --\n",
              "│    └─Flatten <span style=\"font-weight: bold\">(</span><span style=\"color: #008080; text-decoration-color: #008080; font-weight: bold\">6</span><span style=\"font-weight: bold\">)</span>                       <span style=\"font-weight: bold\">[</span><span style=\"color: #008080; text-decoration-color: #008080; font-weight: bold\">1</span>, <span style=\"color: #008080; text-decoration-color: #008080; font-weight: bold\">4</span>, <span style=\"color: #008080; text-decoration-color: #008080; font-weight: bold\">5</span>, <span style=\"color: #008080; text-decoration-color: #008080; font-weight: bold\">8</span><span style=\"font-weight: bold\">]</span>              <span style=\"font-weight: bold\">[</span><span style=\"color: #008080; text-decoration-color: #008080; font-weight: bold\">1</span>, <span style=\"color: #008080; text-decoration-color: #008080; font-weight: bold\">160</span><span style=\"font-weight: bold\">]</span>                  --\n",
              "│    └─Linear <span style=\"font-weight: bold\">(</span><span style=\"color: #008080; text-decoration-color: #008080; font-weight: bold\">7</span><span style=\"font-weight: bold\">)</span>                        <span style=\"font-weight: bold\">[</span><span style=\"color: #008080; text-decoration-color: #008080; font-weight: bold\">1</span>, <span style=\"color: #008080; text-decoration-color: #008080; font-weight: bold\">160</span><span style=\"font-weight: bold\">]</span>                  <span style=\"font-weight: bold\">[</span><span style=\"color: #008080; text-decoration-color: #008080; font-weight: bold\">1</span>, <span style=\"color: #008080; text-decoration-color: #008080; font-weight: bold\">40</span><span style=\"font-weight: bold\">]</span>                   <span style=\"color: #008080; text-decoration-color: #008080; font-weight: bold\">6</span>,<span style=\"color: #008080; text-decoration-color: #008080; font-weight: bold\">440</span>\n",
              "│    └─ReLU <span style=\"font-weight: bold\">(</span><span style=\"color: #008080; text-decoration-color: #008080; font-weight: bold\">8</span><span style=\"font-weight: bold\">)</span>                          <span style=\"font-weight: bold\">[</span><span style=\"color: #008080; text-decoration-color: #008080; font-weight: bold\">1</span>, <span style=\"color: #008080; text-decoration-color: #008080; font-weight: bold\">40</span><span style=\"font-weight: bold\">]</span>                   <span style=\"font-weight: bold\">[</span><span style=\"color: #008080; text-decoration-color: #008080; font-weight: bold\">1</span>, <span style=\"color: #008080; text-decoration-color: #008080; font-weight: bold\">40</span><span style=\"font-weight: bold\">]</span>                   --\n",
              "│    └─Linear <span style=\"font-weight: bold\">(</span><span style=\"color: #008080; text-decoration-color: #008080; font-weight: bold\">9</span><span style=\"font-weight: bold\">)</span>                        <span style=\"font-weight: bold\">[</span><span style=\"color: #008080; text-decoration-color: #008080; font-weight: bold\">1</span>, <span style=\"color: #008080; text-decoration-color: #008080; font-weight: bold\">40</span><span style=\"font-weight: bold\">]</span>                   <span style=\"font-weight: bold\">[</span><span style=\"color: #008080; text-decoration-color: #008080; font-weight: bold\">1</span>, <span style=\"color: #008080; text-decoration-color: #008080; font-weight: bold\">40</span><span style=\"font-weight: bold\">]</span>                   <span style=\"color: #008080; text-decoration-color: #008080; font-weight: bold\">1</span>,<span style=\"color: #008080; text-decoration-color: #008080; font-weight: bold\">640</span>\n",
              "│    └─ReLU <span style=\"font-weight: bold\">(</span><span style=\"color: #008080; text-decoration-color: #008080; font-weight: bold\">10</span><span style=\"font-weight: bold\">)</span>                         <span style=\"font-weight: bold\">[</span><span style=\"color: #008080; text-decoration-color: #008080; font-weight: bold\">1</span>, <span style=\"color: #008080; text-decoration-color: #008080; font-weight: bold\">40</span><span style=\"font-weight: bold\">]</span>                   <span style=\"font-weight: bold\">[</span><span style=\"color: #008080; text-decoration-color: #008080; font-weight: bold\">1</span>, <span style=\"color: #008080; text-decoration-color: #008080; font-weight: bold\">40</span><span style=\"font-weight: bold\">]</span>                   --\n",
              "├─Sequential <span style=\"font-weight: bold\">(</span>_AutoEncoder__decoder<span style=\"font-weight: bold\">)</span>     <span style=\"font-weight: bold\">[</span><span style=\"color: #008080; text-decoration-color: #008080; font-weight: bold\">1</span>, <span style=\"color: #008080; text-decoration-color: #008080; font-weight: bold\">1</span>, <span style=\"color: #008080; text-decoration-color: #008080; font-weight: bold\">5</span>, <span style=\"color: #008080; text-decoration-color: #008080; font-weight: bold\">8</span><span style=\"font-weight: bold\">]</span>              <span style=\"font-weight: bold\">[</span><span style=\"color: #008080; text-decoration-color: #008080; font-weight: bold\">1</span>, <span style=\"color: #008080; text-decoration-color: #008080; font-weight: bold\">1</span>, <span style=\"color: #008080; text-decoration-color: #008080; font-weight: bold\">28</span>, <span style=\"color: #008080; text-decoration-color: #008080; font-weight: bold\">28</span><span style=\"font-weight: bold\">]</span>            --\n",
              "│    └─Flatten <span style=\"font-weight: bold\">(</span><span style=\"color: #008080; text-decoration-color: #008080; font-weight: bold\">0</span><span style=\"font-weight: bold\">)</span>                       <span style=\"font-weight: bold\">[</span><span style=\"color: #008080; text-decoration-color: #008080; font-weight: bold\">1</span>, <span style=\"color: #008080; text-decoration-color: #008080; font-weight: bold\">1</span>, <span style=\"color: #008080; text-decoration-color: #008080; font-weight: bold\">5</span>, <span style=\"color: #008080; text-decoration-color: #008080; font-weight: bold\">8</span><span style=\"font-weight: bold\">]</span>              <span style=\"font-weight: bold\">[</span><span style=\"color: #008080; text-decoration-color: #008080; font-weight: bold\">1</span>, <span style=\"color: #008080; text-decoration-color: #008080; font-weight: bold\">40</span><span style=\"font-weight: bold\">]</span>                   --\n",
              "│    └─Linear <span style=\"font-weight: bold\">(</span><span style=\"color: #008080; text-decoration-color: #008080; font-weight: bold\">1</span><span style=\"font-weight: bold\">)</span>                        <span style=\"font-weight: bold\">[</span><span style=\"color: #008080; text-decoration-color: #008080; font-weight: bold\">1</span>, <span style=\"color: #008080; text-decoration-color: #008080; font-weight: bold\">40</span><span style=\"font-weight: bold\">]</span>                   <span style=\"font-weight: bold\">[</span><span style=\"color: #008080; text-decoration-color: #008080; font-weight: bold\">1</span>, <span style=\"color: #008080; text-decoration-color: #008080; font-weight: bold\">400</span><span style=\"font-weight: bold\">]</span>                  <span style=\"color: #008080; text-decoration-color: #008080; font-weight: bold\">16</span>,<span style=\"color: #008080; text-decoration-color: #008080; font-weight: bold\">400</span>\n",
              "│    └─ReLU <span style=\"font-weight: bold\">(</span><span style=\"color: #008080; text-decoration-color: #008080; font-weight: bold\">2</span><span style=\"font-weight: bold\">)</span>                          <span style=\"font-weight: bold\">[</span><span style=\"color: #008080; text-decoration-color: #008080; font-weight: bold\">1</span>, <span style=\"color: #008080; text-decoration-color: #008080; font-weight: bold\">400</span><span style=\"font-weight: bold\">]</span>                  <span style=\"font-weight: bold\">[</span><span style=\"color: #008080; text-decoration-color: #008080; font-weight: bold\">1</span>, <span style=\"color: #008080; text-decoration-color: #008080; font-weight: bold\">400</span><span style=\"font-weight: bold\">]</span>                  --\n",
              "│    └─Linear <span style=\"font-weight: bold\">(</span><span style=\"color: #008080; text-decoration-color: #008080; font-weight: bold\">3</span><span style=\"font-weight: bold\">)</span>                        <span style=\"font-weight: bold\">[</span><span style=\"color: #008080; text-decoration-color: #008080; font-weight: bold\">1</span>, <span style=\"color: #008080; text-decoration-color: #008080; font-weight: bold\">400</span><span style=\"font-weight: bold\">]</span>                  <span style=\"font-weight: bold\">[</span><span style=\"color: #008080; text-decoration-color: #008080; font-weight: bold\">1</span>, <span style=\"color: #008080; text-decoration-color: #008080; font-weight: bold\">4000</span><span style=\"font-weight: bold\">]</span>                 <span style=\"color: #008080; text-decoration-color: #008080; font-weight: bold\">1</span>,<span style=\"color: #008080; text-decoration-color: #008080; font-weight: bold\">604</span>,<span style=\"color: #008080; text-decoration-color: #008080; font-weight: bold\">000</span>\n",
              "│    └─ReLU <span style=\"font-weight: bold\">(</span><span style=\"color: #008080; text-decoration-color: #008080; font-weight: bold\">4</span><span style=\"font-weight: bold\">)</span>                          <span style=\"font-weight: bold\">[</span><span style=\"color: #008080; text-decoration-color: #008080; font-weight: bold\">1</span>, <span style=\"color: #008080; text-decoration-color: #008080; font-weight: bold\">4000</span><span style=\"font-weight: bold\">]</span>                 <span style=\"font-weight: bold\">[</span><span style=\"color: #008080; text-decoration-color: #008080; font-weight: bold\">1</span>, <span style=\"color: #008080; text-decoration-color: #008080; font-weight: bold\">4000</span><span style=\"font-weight: bold\">]</span>                 --\n",
              "│    └─Unflatten <span style=\"font-weight: bold\">(</span><span style=\"color: #008080; text-decoration-color: #008080; font-weight: bold\">5</span><span style=\"font-weight: bold\">)</span>                     <span style=\"font-weight: bold\">[</span><span style=\"color: #008080; text-decoration-color: #008080; font-weight: bold\">1</span>, <span style=\"color: #008080; text-decoration-color: #008080; font-weight: bold\">4000</span><span style=\"font-weight: bold\">]</span>                 <span style=\"font-weight: bold\">[</span><span style=\"color: #008080; text-decoration-color: #008080; font-weight: bold\">1</span>, <span style=\"color: #008080; text-decoration-color: #008080; font-weight: bold\">10</span>, <span style=\"color: #008080; text-decoration-color: #008080; font-weight: bold\">20</span>, <span style=\"color: #008080; text-decoration-color: #008080; font-weight: bold\">20</span><span style=\"font-weight: bold\">]</span>           --\n",
              "│    └─ConvTranspose2d <span style=\"font-weight: bold\">(</span><span style=\"color: #008080; text-decoration-color: #008080; font-weight: bold\">6</span><span style=\"font-weight: bold\">)</span>               <span style=\"font-weight: bold\">[</span><span style=\"color: #008080; text-decoration-color: #008080; font-weight: bold\">1</span>, <span style=\"color: #008080; text-decoration-color: #008080; font-weight: bold\">10</span>, <span style=\"color: #008080; text-decoration-color: #008080; font-weight: bold\">20</span>, <span style=\"color: #008080; text-decoration-color: #008080; font-weight: bold\">20</span><span style=\"font-weight: bold\">]</span>           <span style=\"font-weight: bold\">[</span><span style=\"color: #008080; text-decoration-color: #008080; font-weight: bold\">1</span>, <span style=\"color: #008080; text-decoration-color: #008080; font-weight: bold\">10</span>, <span style=\"color: #008080; text-decoration-color: #008080; font-weight: bold\">24</span>, <span style=\"color: #008080; text-decoration-color: #008080; font-weight: bold\">24</span><span style=\"font-weight: bold\">]</span>           <span style=\"color: #008080; text-decoration-color: #008080; font-weight: bold\">2</span>,<span style=\"color: #008080; text-decoration-color: #008080; font-weight: bold\">510</span>\n",
              "│    └─ReLU <span style=\"font-weight: bold\">(</span><span style=\"color: #008080; text-decoration-color: #008080; font-weight: bold\">7</span><span style=\"font-weight: bold\">)</span>                          <span style=\"font-weight: bold\">[</span><span style=\"color: #008080; text-decoration-color: #008080; font-weight: bold\">1</span>, <span style=\"color: #008080; text-decoration-color: #008080; font-weight: bold\">10</span>, <span style=\"color: #008080; text-decoration-color: #008080; font-weight: bold\">24</span>, <span style=\"color: #008080; text-decoration-color: #008080; font-weight: bold\">24</span><span style=\"font-weight: bold\">]</span>           <span style=\"font-weight: bold\">[</span><span style=\"color: #008080; text-decoration-color: #008080; font-weight: bold\">1</span>, <span style=\"color: #008080; text-decoration-color: #008080; font-weight: bold\">10</span>, <span style=\"color: #008080; text-decoration-color: #008080; font-weight: bold\">24</span>, <span style=\"color: #008080; text-decoration-color: #008080; font-weight: bold\">24</span><span style=\"font-weight: bold\">]</span>           --\n",
              "│    └─ConvTranspose2d <span style=\"font-weight: bold\">(</span><span style=\"color: #008080; text-decoration-color: #008080; font-weight: bold\">8</span><span style=\"font-weight: bold\">)</span>               <span style=\"font-weight: bold\">[</span><span style=\"color: #008080; text-decoration-color: #008080; font-weight: bold\">1</span>, <span style=\"color: #008080; text-decoration-color: #008080; font-weight: bold\">10</span>, <span style=\"color: #008080; text-decoration-color: #008080; font-weight: bold\">24</span>, <span style=\"color: #008080; text-decoration-color: #008080; font-weight: bold\">24</span><span style=\"font-weight: bold\">]</span>           <span style=\"font-weight: bold\">[</span><span style=\"color: #008080; text-decoration-color: #008080; font-weight: bold\">1</span>, <span style=\"color: #008080; text-decoration-color: #008080; font-weight: bold\">1</span>, <span style=\"color: #008080; text-decoration-color: #008080; font-weight: bold\">28</span>, <span style=\"color: #008080; text-decoration-color: #008080; font-weight: bold\">28</span><span style=\"font-weight: bold\">]</span>            <span style=\"color: #008080; text-decoration-color: #008080; font-weight: bold\">251</span>\n",
              "│    └─Sigmoid <span style=\"font-weight: bold\">(</span><span style=\"color: #008080; text-decoration-color: #008080; font-weight: bold\">9</span><span style=\"font-weight: bold\">)</span>                       <span style=\"font-weight: bold\">[</span><span style=\"color: #008080; text-decoration-color: #008080; font-weight: bold\">1</span>, <span style=\"color: #008080; text-decoration-color: #008080; font-weight: bold\">1</span>, <span style=\"color: #008080; text-decoration-color: #008080; font-weight: bold\">28</span>, <span style=\"color: #008080; text-decoration-color: #008080; font-weight: bold\">28</span><span style=\"font-weight: bold\">]</span>            <span style=\"font-weight: bold\">[</span><span style=\"color: #008080; text-decoration-color: #008080; font-weight: bold\">1</span>, <span style=\"color: #008080; text-decoration-color: #008080; font-weight: bold\">1</span>, <span style=\"color: #008080; text-decoration-color: #008080; font-weight: bold\">28</span>, <span style=\"color: #008080; text-decoration-color: #008080; font-weight: bold\">28</span><span style=\"font-weight: bold\">]</span>            --\n",
              "===================================================================================================================\n",
              "Total params: <span style=\"color: #008080; text-decoration-color: #008080; font-weight: bold\">1</span>,<span style=\"color: #008080; text-decoration-color: #008080; font-weight: bold\">632</span>,<span style=\"color: #008080; text-decoration-color: #008080; font-weight: bold\">957</span>\n",
              "Trainable params: <span style=\"color: #008080; text-decoration-color: #008080; font-weight: bold\">1</span>,<span style=\"color: #008080; text-decoration-color: #008080; font-weight: bold\">632</span>,<span style=\"color: #008080; text-decoration-color: #008080; font-weight: bold\">957</span>\n",
              "Non-trainable params: <span style=\"color: #008080; text-decoration-color: #008080; font-weight: bold\">0</span>\n",
              "Total mult-adds <span style=\"font-weight: bold\">(</span>Units.MEGABYTES<span style=\"font-weight: bold\">)</span>: <span style=\"color: #008080; text-decoration-color: #008080; font-weight: bold\">3.69</span>\n",
              "===================================================================================================================\n",
              "Input size <span style=\"font-weight: bold\">(</span>MB<span style=\"font-weight: bold\">)</span>: <span style=\"color: #008080; text-decoration-color: #008080; font-weight: bold\">0.00</span>\n",
              "Forward/backward pass size <span style=\"font-weight: bold\">(</span>MB<span style=\"font-weight: bold\">)</span>: <span style=\"color: #008080; text-decoration-color: #008080; font-weight: bold\">0.13</span>\n",
              "Params size <span style=\"font-weight: bold\">(</span>MB<span style=\"font-weight: bold\">)</span>: <span style=\"color: #008080; text-decoration-color: #008080; font-weight: bold\">6.53</span>\n",
              "Estimated Total Size <span style=\"font-weight: bold\">(</span>MB<span style=\"font-weight: bold\">)</span>: <span style=\"color: #008080; text-decoration-color: #008080; font-weight: bold\">6.67</span>\n",
              "===================================================================================================================\n",
              "</pre>\n"
            ],
            "text/plain": [
              "===================================================================================================================\n",
              "Layer \u001b[1m(\u001b[0mtype \u001b[1m(\u001b[0mvar_name\u001b[1m)\u001b[0m\u001b[1m)\u001b[0m                  Input Shape               Output Shape              Param #\n",
              "===================================================================================================================\n",
              "AutoEncoder \u001b[1m(\u001b[0mAutoEncoder\u001b[1m)\u001b[0m                \u001b[1m[\u001b[0m\u001b[1;36m1\u001b[0m, \u001b[1;36m1\u001b[0m, \u001b[1;36m28\u001b[0m, \u001b[1;36m28\u001b[0m\u001b[1m]\u001b[0m            \u001b[1m[\u001b[0m\u001b[1;36m1\u001b[0m, \u001b[1;36m1\u001b[0m, \u001b[1;36m28\u001b[0m, \u001b[1;36m28\u001b[0m\u001b[1m]\u001b[0m            --\n",
              "├─Sequential \u001b[1m(\u001b[0m_AutoEncoder__encoder\u001b[1m)\u001b[0m     \u001b[1m[\u001b[0m\u001b[1;36m1\u001b[0m, \u001b[1;36m1\u001b[0m, \u001b[1;36m28\u001b[0m, \u001b[1;36m28\u001b[0m\u001b[1m]\u001b[0m            \u001b[1m[\u001b[0m\u001b[1;36m1\u001b[0m, \u001b[1;36m40\u001b[0m\u001b[1m]\u001b[0m                   --\n",
              "│    └─Conv2d \u001b[1m(\u001b[0m\u001b[1;36m0\u001b[0m\u001b[1m)\u001b[0m                        \u001b[1m[\u001b[0m\u001b[1;36m1\u001b[0m, \u001b[1;36m1\u001b[0m, \u001b[1;36m28\u001b[0m, \u001b[1;36m28\u001b[0m\u001b[1m]\u001b[0m            \u001b[1m[\u001b[0m\u001b[1;36m1\u001b[0m, \u001b[1;36m4\u001b[0m, \u001b[1;36m24\u001b[0m, \u001b[1;36m24\u001b[0m\u001b[1m]\u001b[0m            \u001b[1;36m104\u001b[0m\n",
              "│    └─ReLU \u001b[1m(\u001b[0m\u001b[1;36m1\u001b[0m\u001b[1m)\u001b[0m                          \u001b[1m[\u001b[0m\u001b[1;36m1\u001b[0m, \u001b[1;36m4\u001b[0m, \u001b[1;36m24\u001b[0m, \u001b[1;36m24\u001b[0m\u001b[1m]\u001b[0m            \u001b[1m[\u001b[0m\u001b[1;36m1\u001b[0m, \u001b[1;36m4\u001b[0m, \u001b[1;36m24\u001b[0m, \u001b[1;36m24\u001b[0m\u001b[1m]\u001b[0m            --\n",
              "│    └─Conv2d \u001b[1m(\u001b[0m\u001b[1;36m2\u001b[0m\u001b[1m)\u001b[0m                        \u001b[1m[\u001b[0m\u001b[1;36m1\u001b[0m, \u001b[1;36m4\u001b[0m, \u001b[1;36m24\u001b[0m, \u001b[1;36m24\u001b[0m\u001b[1m]\u001b[0m            \u001b[1m[\u001b[0m\u001b[1;36m1\u001b[0m, \u001b[1;36m8\u001b[0m, \u001b[1;36m20\u001b[0m, \u001b[1;36m20\u001b[0m\u001b[1m]\u001b[0m            \u001b[1;36m808\u001b[0m\n",
              "│    └─ReLU \u001b[1m(\u001b[0m\u001b[1;36m3\u001b[0m\u001b[1m)\u001b[0m                          \u001b[1m[\u001b[0m\u001b[1;36m1\u001b[0m, \u001b[1;36m8\u001b[0m, \u001b[1;36m20\u001b[0m, \u001b[1;36m20\u001b[0m\u001b[1m]\u001b[0m            \u001b[1m[\u001b[0m\u001b[1;36m1\u001b[0m, \u001b[1;36m8\u001b[0m, \u001b[1;36m20\u001b[0m, \u001b[1;36m20\u001b[0m\u001b[1m]\u001b[0m            --\n",
              "│    └─Conv2d \u001b[1m(\u001b[0m\u001b[1;36m4\u001b[0m\u001b[1m)\u001b[0m                        \u001b[1m[\u001b[0m\u001b[1;36m1\u001b[0m, \u001b[1;36m8\u001b[0m, \u001b[1;36m20\u001b[0m, \u001b[1;36m20\u001b[0m\u001b[1m]\u001b[0m            \u001b[1m[\u001b[0m\u001b[1;36m1\u001b[0m, \u001b[1;36m4\u001b[0m, \u001b[1;36m5\u001b[0m, \u001b[1;36m8\u001b[0m\u001b[1m]\u001b[0m              \u001b[1;36m804\u001b[0m\n",
              "│    └─ReLU \u001b[1m(\u001b[0m\u001b[1;36m5\u001b[0m\u001b[1m)\u001b[0m                          \u001b[1m[\u001b[0m\u001b[1;36m1\u001b[0m, \u001b[1;36m4\u001b[0m, \u001b[1;36m5\u001b[0m, \u001b[1;36m8\u001b[0m\u001b[1m]\u001b[0m              \u001b[1m[\u001b[0m\u001b[1;36m1\u001b[0m, \u001b[1;36m4\u001b[0m, \u001b[1;36m5\u001b[0m, \u001b[1;36m8\u001b[0m\u001b[1m]\u001b[0m              --\n",
              "│    └─Flatten \u001b[1m(\u001b[0m\u001b[1;36m6\u001b[0m\u001b[1m)\u001b[0m                       \u001b[1m[\u001b[0m\u001b[1;36m1\u001b[0m, \u001b[1;36m4\u001b[0m, \u001b[1;36m5\u001b[0m, \u001b[1;36m8\u001b[0m\u001b[1m]\u001b[0m              \u001b[1m[\u001b[0m\u001b[1;36m1\u001b[0m, \u001b[1;36m160\u001b[0m\u001b[1m]\u001b[0m                  --\n",
              "│    └─Linear \u001b[1m(\u001b[0m\u001b[1;36m7\u001b[0m\u001b[1m)\u001b[0m                        \u001b[1m[\u001b[0m\u001b[1;36m1\u001b[0m, \u001b[1;36m160\u001b[0m\u001b[1m]\u001b[0m                  \u001b[1m[\u001b[0m\u001b[1;36m1\u001b[0m, \u001b[1;36m40\u001b[0m\u001b[1m]\u001b[0m                   \u001b[1;36m6\u001b[0m,\u001b[1;36m440\u001b[0m\n",
              "│    └─ReLU \u001b[1m(\u001b[0m\u001b[1;36m8\u001b[0m\u001b[1m)\u001b[0m                          \u001b[1m[\u001b[0m\u001b[1;36m1\u001b[0m, \u001b[1;36m40\u001b[0m\u001b[1m]\u001b[0m                   \u001b[1m[\u001b[0m\u001b[1;36m1\u001b[0m, \u001b[1;36m40\u001b[0m\u001b[1m]\u001b[0m                   --\n",
              "│    └─Linear \u001b[1m(\u001b[0m\u001b[1;36m9\u001b[0m\u001b[1m)\u001b[0m                        \u001b[1m[\u001b[0m\u001b[1;36m1\u001b[0m, \u001b[1;36m40\u001b[0m\u001b[1m]\u001b[0m                   \u001b[1m[\u001b[0m\u001b[1;36m1\u001b[0m, \u001b[1;36m40\u001b[0m\u001b[1m]\u001b[0m                   \u001b[1;36m1\u001b[0m,\u001b[1;36m640\u001b[0m\n",
              "│    └─ReLU \u001b[1m(\u001b[0m\u001b[1;36m10\u001b[0m\u001b[1m)\u001b[0m                         \u001b[1m[\u001b[0m\u001b[1;36m1\u001b[0m, \u001b[1;36m40\u001b[0m\u001b[1m]\u001b[0m                   \u001b[1m[\u001b[0m\u001b[1;36m1\u001b[0m, \u001b[1;36m40\u001b[0m\u001b[1m]\u001b[0m                   --\n",
              "├─Sequential \u001b[1m(\u001b[0m_AutoEncoder__decoder\u001b[1m)\u001b[0m     \u001b[1m[\u001b[0m\u001b[1;36m1\u001b[0m, \u001b[1;36m1\u001b[0m, \u001b[1;36m5\u001b[0m, \u001b[1;36m8\u001b[0m\u001b[1m]\u001b[0m              \u001b[1m[\u001b[0m\u001b[1;36m1\u001b[0m, \u001b[1;36m1\u001b[0m, \u001b[1;36m28\u001b[0m, \u001b[1;36m28\u001b[0m\u001b[1m]\u001b[0m            --\n",
              "│    └─Flatten \u001b[1m(\u001b[0m\u001b[1;36m0\u001b[0m\u001b[1m)\u001b[0m                       \u001b[1m[\u001b[0m\u001b[1;36m1\u001b[0m, \u001b[1;36m1\u001b[0m, \u001b[1;36m5\u001b[0m, \u001b[1;36m8\u001b[0m\u001b[1m]\u001b[0m              \u001b[1m[\u001b[0m\u001b[1;36m1\u001b[0m, \u001b[1;36m40\u001b[0m\u001b[1m]\u001b[0m                   --\n",
              "│    └─Linear \u001b[1m(\u001b[0m\u001b[1;36m1\u001b[0m\u001b[1m)\u001b[0m                        \u001b[1m[\u001b[0m\u001b[1;36m1\u001b[0m, \u001b[1;36m40\u001b[0m\u001b[1m]\u001b[0m                   \u001b[1m[\u001b[0m\u001b[1;36m1\u001b[0m, \u001b[1;36m400\u001b[0m\u001b[1m]\u001b[0m                  \u001b[1;36m16\u001b[0m,\u001b[1;36m400\u001b[0m\n",
              "│    └─ReLU \u001b[1m(\u001b[0m\u001b[1;36m2\u001b[0m\u001b[1m)\u001b[0m                          \u001b[1m[\u001b[0m\u001b[1;36m1\u001b[0m, \u001b[1;36m400\u001b[0m\u001b[1m]\u001b[0m                  \u001b[1m[\u001b[0m\u001b[1;36m1\u001b[0m, \u001b[1;36m400\u001b[0m\u001b[1m]\u001b[0m                  --\n",
              "│    └─Linear \u001b[1m(\u001b[0m\u001b[1;36m3\u001b[0m\u001b[1m)\u001b[0m                        \u001b[1m[\u001b[0m\u001b[1;36m1\u001b[0m, \u001b[1;36m400\u001b[0m\u001b[1m]\u001b[0m                  \u001b[1m[\u001b[0m\u001b[1;36m1\u001b[0m, \u001b[1;36m4000\u001b[0m\u001b[1m]\u001b[0m                 \u001b[1;36m1\u001b[0m,\u001b[1;36m604\u001b[0m,\u001b[1;36m000\u001b[0m\n",
              "│    └─ReLU \u001b[1m(\u001b[0m\u001b[1;36m4\u001b[0m\u001b[1m)\u001b[0m                          \u001b[1m[\u001b[0m\u001b[1;36m1\u001b[0m, \u001b[1;36m4000\u001b[0m\u001b[1m]\u001b[0m                 \u001b[1m[\u001b[0m\u001b[1;36m1\u001b[0m, \u001b[1;36m4000\u001b[0m\u001b[1m]\u001b[0m                 --\n",
              "│    └─Unflatten \u001b[1m(\u001b[0m\u001b[1;36m5\u001b[0m\u001b[1m)\u001b[0m                     \u001b[1m[\u001b[0m\u001b[1;36m1\u001b[0m, \u001b[1;36m4000\u001b[0m\u001b[1m]\u001b[0m                 \u001b[1m[\u001b[0m\u001b[1;36m1\u001b[0m, \u001b[1;36m10\u001b[0m, \u001b[1;36m20\u001b[0m, \u001b[1;36m20\u001b[0m\u001b[1m]\u001b[0m           --\n",
              "│    └─ConvTranspose2d \u001b[1m(\u001b[0m\u001b[1;36m6\u001b[0m\u001b[1m)\u001b[0m               \u001b[1m[\u001b[0m\u001b[1;36m1\u001b[0m, \u001b[1;36m10\u001b[0m, \u001b[1;36m20\u001b[0m, \u001b[1;36m20\u001b[0m\u001b[1m]\u001b[0m           \u001b[1m[\u001b[0m\u001b[1;36m1\u001b[0m, \u001b[1;36m10\u001b[0m, \u001b[1;36m24\u001b[0m, \u001b[1;36m24\u001b[0m\u001b[1m]\u001b[0m           \u001b[1;36m2\u001b[0m,\u001b[1;36m510\u001b[0m\n",
              "│    └─ReLU \u001b[1m(\u001b[0m\u001b[1;36m7\u001b[0m\u001b[1m)\u001b[0m                          \u001b[1m[\u001b[0m\u001b[1;36m1\u001b[0m, \u001b[1;36m10\u001b[0m, \u001b[1;36m24\u001b[0m, \u001b[1;36m24\u001b[0m\u001b[1m]\u001b[0m           \u001b[1m[\u001b[0m\u001b[1;36m1\u001b[0m, \u001b[1;36m10\u001b[0m, \u001b[1;36m24\u001b[0m, \u001b[1;36m24\u001b[0m\u001b[1m]\u001b[0m           --\n",
              "│    └─ConvTranspose2d \u001b[1m(\u001b[0m\u001b[1;36m8\u001b[0m\u001b[1m)\u001b[0m               \u001b[1m[\u001b[0m\u001b[1;36m1\u001b[0m, \u001b[1;36m10\u001b[0m, \u001b[1;36m24\u001b[0m, \u001b[1;36m24\u001b[0m\u001b[1m]\u001b[0m           \u001b[1m[\u001b[0m\u001b[1;36m1\u001b[0m, \u001b[1;36m1\u001b[0m, \u001b[1;36m28\u001b[0m, \u001b[1;36m28\u001b[0m\u001b[1m]\u001b[0m            \u001b[1;36m251\u001b[0m\n",
              "│    └─Sigmoid \u001b[1m(\u001b[0m\u001b[1;36m9\u001b[0m\u001b[1m)\u001b[0m                       \u001b[1m[\u001b[0m\u001b[1;36m1\u001b[0m, \u001b[1;36m1\u001b[0m, \u001b[1;36m28\u001b[0m, \u001b[1;36m28\u001b[0m\u001b[1m]\u001b[0m            \u001b[1m[\u001b[0m\u001b[1;36m1\u001b[0m, \u001b[1;36m1\u001b[0m, \u001b[1;36m28\u001b[0m, \u001b[1;36m28\u001b[0m\u001b[1m]\u001b[0m            --\n",
              "===================================================================================================================\n",
              "Total params: \u001b[1;36m1\u001b[0m,\u001b[1;36m632\u001b[0m,\u001b[1;36m957\u001b[0m\n",
              "Trainable params: \u001b[1;36m1\u001b[0m,\u001b[1;36m632\u001b[0m,\u001b[1;36m957\u001b[0m\n",
              "Non-trainable params: \u001b[1;36m0\u001b[0m\n",
              "Total mult-adds \u001b[1m(\u001b[0mUnits.MEGABYTES\u001b[1m)\u001b[0m: \u001b[1;36m3.69\u001b[0m\n",
              "===================================================================================================================\n",
              "Input size \u001b[1m(\u001b[0mMB\u001b[1m)\u001b[0m: \u001b[1;36m0.00\u001b[0m\n",
              "Forward/backward pass size \u001b[1m(\u001b[0mMB\u001b[1m)\u001b[0m: \u001b[1;36m0.13\u001b[0m\n",
              "Params size \u001b[1m(\u001b[0mMB\u001b[1m)\u001b[0m: \u001b[1;36m6.53\u001b[0m\n",
              "Estimated Total Size \u001b[1m(\u001b[0mMB\u001b[1m)\u001b[0m: \u001b[1;36m6.67\u001b[0m\n",
              "===================================================================================================================\n"
            ]
          },
          "metadata": {},
          "output_type": "display_data"
        }
      ],
      "source": [
        "console = Console()\n",
        "\n",
        "# create models and view their size (# of parameters)\n",
        "gen_noise = torch.randn((1,5,4))\n",
        "netQG = QGenerator()\n",
        "\n",
        "input_size = (1,1,28,28)\n",
        "autoenc_noise = torch.randn(input_size)\n",
        "autoenc = AutoEncoder()\n",
        "\n",
        "disc_noise = torch.randn(1,40)\n",
        "netD = Discriminator(40)\n",
        "\n",
        "G_stats = summary(model=netQG, input_data=gen_noise, col_names=['input_size','output_size','num_params'], row_settings=('var_names',), verbose=0)\n",
        "D_stats = summary(model=netD, input_data=disc_noise, col_names=['input_size','output_size','num_params'], row_settings=('var_names',), verbose=0)\n",
        "autoenc_stats = summary(model=autoenc, input_data=autoenc_noise, col_names=['input_size','output_size','num_params'], row_settings=('var_names',), verbose=0)\n",
        "\n",
        "\n",
        "console.print(G_stats)\n",
        "print('\\n+-+-+-+-+-+-+-+-+-+-\\n')\n",
        "console.print(D_stats)\n",
        "print('\\n+-+-+-+-+-+-+-+-+-+-\\n')\n",
        "console.print(autoenc_stats)"
      ]
    },
    {
      "cell_type": "markdown",
      "metadata": {
        "id": "aZ3hxgYTiEq4"
      },
      "source": [
        "# Training"
      ]
    },
    {
      "cell_type": "markdown",
      "metadata": {
        "id": "l1-sbBhpY-9n"
      },
      "source": [
        "## Importing Dataset (MNIST)"
      ]
    },
    {
      "cell_type": "code",
      "execution_count": 11,
      "metadata": {
        "colab": {
          "base_uri": "https://localhost:8080/"
        },
        "id": "L6CMIT5vZB9-",
        "outputId": "f369d241-008d-47e9-d51d-a9bc3c7cc662"
      },
      "outputs": [
        {
          "name": "stdout",
          "output_type": "stream",
          "text": [
            "Downloading http://yann.lecun.com/exdb/mnist/train-images-idx3-ubyte.gz\n",
            "Failed to download (trying next):\n",
            "HTTP Error 404: Not Found\n",
            "\n",
            "Downloading https://ossci-datasets.s3.amazonaws.com/mnist/train-images-idx3-ubyte.gz\n",
            "Downloading https://ossci-datasets.s3.amazonaws.com/mnist/train-images-idx3-ubyte.gz to ./data/MNIST/raw/train-images-idx3-ubyte.gz\n"
          ]
        },
        {
          "name": "stderr",
          "output_type": "stream",
          "text": [
            "100%|██████████| 9.91M/9.91M [00:00<00:00, 16.2MB/s]\n"
          ]
        },
        {
          "name": "stdout",
          "output_type": "stream",
          "text": [
            "Extracting ./data/MNIST/raw/train-images-idx3-ubyte.gz to ./data/MNIST/raw\n",
            "\n",
            "Downloading http://yann.lecun.com/exdb/mnist/train-labels-idx1-ubyte.gz\n",
            "Failed to download (trying next):\n",
            "HTTP Error 404: Not Found\n",
            "\n",
            "Downloading https://ossci-datasets.s3.amazonaws.com/mnist/train-labels-idx1-ubyte.gz\n",
            "Downloading https://ossci-datasets.s3.amazonaws.com/mnist/train-labels-idx1-ubyte.gz to ./data/MNIST/raw/train-labels-idx1-ubyte.gz\n"
          ]
        },
        {
          "name": "stderr",
          "output_type": "stream",
          "text": [
            "100%|██████████| 28.9k/28.9k [00:00<00:00, 489kB/s]\n"
          ]
        },
        {
          "name": "stdout",
          "output_type": "stream",
          "text": [
            "Extracting ./data/MNIST/raw/train-labels-idx1-ubyte.gz to ./data/MNIST/raw\n",
            "\n",
            "Downloading http://yann.lecun.com/exdb/mnist/t10k-images-idx3-ubyte.gz\n",
            "Failed to download (trying next):\n",
            "HTTP Error 404: Not Found\n",
            "\n",
            "Downloading https://ossci-datasets.s3.amazonaws.com/mnist/t10k-images-idx3-ubyte.gz\n",
            "Downloading https://ossci-datasets.s3.amazonaws.com/mnist/t10k-images-idx3-ubyte.gz to ./data/MNIST/raw/t10k-images-idx3-ubyte.gz\n"
          ]
        },
        {
          "name": "stderr",
          "output_type": "stream",
          "text": [
            "100%|██████████| 1.65M/1.65M [00:00<00:00, 4.52MB/s]\n"
          ]
        },
        {
          "name": "stdout",
          "output_type": "stream",
          "text": [
            "Extracting ./data/MNIST/raw/t10k-images-idx3-ubyte.gz to ./data/MNIST/raw\n",
            "\n",
            "Downloading http://yann.lecun.com/exdb/mnist/t10k-labels-idx1-ubyte.gz\n",
            "Failed to download (trying next):\n",
            "HTTP Error 404: Not Found\n",
            "\n",
            "Downloading https://ossci-datasets.s3.amazonaws.com/mnist/t10k-labels-idx1-ubyte.gz\n",
            "Downloading https://ossci-datasets.s3.amazonaws.com/mnist/t10k-labels-idx1-ubyte.gz to ./data/MNIST/raw/t10k-labels-idx1-ubyte.gz\n"
          ]
        },
        {
          "name": "stderr",
          "output_type": "stream",
          "text": [
            "100%|██████████| 4.54k/4.54k [00:00<00:00, 4.06MB/s]"
          ]
        },
        {
          "name": "stdout",
          "output_type": "stream",
          "text": [
            "Extracting ./data/MNIST/raw/t10k-labels-idx1-ubyte.gz to ./data/MNIST/raw\n",
            "\n"
          ]
        },
        {
          "name": "stderr",
          "output_type": "stream",
          "text": [
            "\n"
          ]
        }
      ],
      "source": [
        "preprocess = transforms.Compose([transforms.Resize(28), transforms.ToTensor()])\n",
        "\n",
        "# import mnist dataset\n",
        "trainset = datasets.MNIST(root='./data', download=True, transform=preprocess)\n",
        "testset = datasets.MNIST(root='./data', train=False, download=True, transform=preprocess)"
      ]
    },
    {
      "cell_type": "markdown",
      "metadata": {
        "id": "VbxXVibfZxoW"
      },
      "source": [
        "## Training the Autoencoder"
      ]
    },
    {
      "cell_type": "code",
      "execution_count": 12,
      "metadata": {
        "id": "s4LY0TVAy4zb"
      },
      "outputs": [],
      "source": [
        "def load_autoencoder(file_path='./autoenc_checkpoint.pth', load_eval_mode=True):\n",
        "  autoenc = AutoEncoder()\n",
        "  optimizer = torch.optim.AdamW(autoenc.parameters(), lr=0.001, weight_decay=1e-4)\n",
        "  epoch = 0\n",
        "  best_test_loss = float('inf')\n",
        "  try:\n",
        "    # load checkpoint file and set model's and optmizier's state dicts\n",
        "    autoenc_checkpoint = torch.load(file_path, weights_only=True, map_location=device)\n",
        "    autoenc.load_state_dict(autoenc_checkpoint['model_state_dict'])\n",
        "    checkpoint = torch.load('./autoenc_checkpoint.pth', weights_only=True, map_location=device)\n",
        "    epoch = checkpoint['epoch']\n",
        "    autoenc.load_state_dict(checkpoint['model_state_dict'])\n",
        "    optimizer.load_state_dict(checkpoint['optimizer_state_dict'])\n",
        "    best_test_loss = checkpoint['test_loss']\n",
        "\n",
        "    # move optimizer tensors to device\n",
        "    for param in optimizer.state.values():\n",
        "      if isinstance(param, torch.Tensor):\n",
        "        param.data = param.data.to(device)\n",
        "      if isinstance(param, dict):\n",
        "        for sub_param in param.values():\n",
        "          if isinstance(sub_param, torch.Tensor):\n",
        "            sub_param.data = sub_param.data.to(device)\n",
        "  except FileNotFoundError:\n",
        "    print('ERROR: NO CHECKPOINT FILE FOUND. Using default Autoencoder.')\n",
        "  except:\n",
        "    print('ERROR WHILE LOADING PRE-TRAINED AUTOENCODER WEIGHTS: Using default Autoencoder.')\n",
        "\n",
        "  if load_eval_mode:\n",
        "    return autoenc\n",
        "  else:\n",
        "    return autoenc, optimizer, epoch, best_test_loss"
      ]
    },
    {
      "cell_type": "code",
      "execution_count": null,
      "metadata": {
        "colab": {
          "base_uri": "https://localhost:8080/",
          "height": 1000
        },
        "id": "90nPehSaZ2W9",
        "outputId": "c7bdfa85-0c5e-4917-b096-d4234e16380e"
      },
      "outputs": [],
      "source": [
        "# define train and data loader for\n",
        "batch_size=20\n",
        "trainloader = torch.utils.data.DataLoader(trainset, batch_size=batch_size, shuffle=True)\n",
        "testloader = torch.utils.data.DataLoader(testset, batch_size=batch_size, shuffle=True)\n",
        "tot_batches = len(trainloader)\n",
        "\n",
        "# load pre-trained model if available\n",
        "autoenc, optimizer, epoch, best_test_loss = load_autoencoder(load_eval_mode=False)\n",
        "autoenc = autoenc.to(device)\n",
        "\n",
        "# define loss function and optimizer\n",
        "loss_f = nn.BCELoss()\n",
        "\n",
        "epochs = 100\n",
        "log_after_batches = 1000\n",
        "\n",
        "for epoch in range(epochs):\n",
        "  print(f'EPOCH {epoch+1}\\n========')\n",
        "  autoenc.train()\n",
        "  for batch_id, (images, labels) in enumerate(trainloader):\n",
        "    # move data to device\n",
        "    images = images.to(device)\n",
        "\n",
        "    # perform forward pass\n",
        "    decoded = autoenc(images)\n",
        "\n",
        "    # compute loss\n",
        "    loss = loss_f(decoded, images)\n",
        "\n",
        "    # update autoencoder\n",
        "    optimizer.zero_grad()\n",
        "    loss.backward()\n",
        "    optimizer.step()\n",
        "\n",
        "    # log progress\n",
        "    if batch_id%log_after_batches == 0:\n",
        "      print(f'[{(batch_id)}/{tot_batches}] loss: {loss.item():.4f}')\n",
        "      fig, axes = plt.subplots(1, 2)\n",
        "      axes[0].imshow(images.detach().cpu()[0].permute(1,2,0).numpy(), cmap='gray')\n",
        "      axes[0].set_title(f'Original {labels[0].item()}')\n",
        "      axes[0].axis(\"off\")\n",
        "      axes[1].imshow(decoded.detach().cpu()[0].permute(1,2,0).numpy(), cmap='gray')\n",
        "      axes[1].set_title(f'Reconstructed {labels[0].item()}')\n",
        "      axes[1].axis(\"off\")\n",
        "      plt.show()\n",
        "\n",
        "\n",
        "  # evaluation on test set\n",
        "  with torch.no_grad():\n",
        "    autoenc.eval()\n",
        "    test_loss = 0\n",
        "    for images, labels in testloader:\n",
        "      images = images.to(device)\n",
        "      labels = labels.to(device)\n",
        "\n",
        "      encoded = autoenc.encode(images)\n",
        "      decoded = autoenc.decode(encoded)\n",
        "      test_loss += loss_f(decoded, images).item()\n",
        "\n",
        "    test_loss /= len(testloader)\n",
        "\n",
        "    # save checkpoint if results are new best\n",
        "    if test_loss < best_test_loss:\n",
        "      print('NEW BEST')\n",
        "      best_test_loss = test_loss\n",
        "      torch.save({'epoch': epoch,\n",
        "                  'model_state_dict': autoenc.state_dict(),\n",
        "                  'optimizer_state_dict': optimizer.state_dict(),\n",
        "                  'test_loss': loss},\n",
        "                  'autoenc_checkpoint.pth')\n",
        "    print(f'test loss: {test_loss:.6f},   current_best: {best_test_loss:.6f}')\n",
        "  print()"
      ]
    },
    {
      "cell_type": "markdown",
      "metadata": {
        "id": "DyQ0HtNegGKH"
      },
      "source": [
        "## Training the QGAN"
      ]
    },
    {
      "cell_type": "code",
      "execution_count": 14,
      "metadata": {
        "id": "BBfEjOeMu-bg"
      },
      "outputs": [],
      "source": [
        "def load_qgan(file_path='./qgan_checkpoint.pth', load_eval_mode=True):\n",
        "  netD = Discriminator(40)\n",
        "  netQG = QGenerator(num_circuits=5, num_qubits=4, num_layers=7)\n",
        "  gen_optim = optim.Adam(netQG.parameters(), lr=0.001, betas=(0.5, 0.9))\n",
        "  disc_optim = optim.SGD(netD.parameters(), lr=0.001)\n",
        "\n",
        "  try:\n",
        "    qgan_checkpoint = torch.load(file_path, weights_only=True, map_location=device)\n",
        "    netQG.load_state_dict(qgan_checkpoint['gen_state_dict'])\n",
        "    gen_optim.load_state_dict(qgan_checkpoint['gen_optim_state_dict'])\n",
        "    netD.load_state_dict(qgan_checkpoint['disc_state_dict'])\n",
        "    disc_optim.load_state_dict(qgan_checkpoint['disc_optim_state_dict'])\n",
        "\n",
        "\n",
        "    # move optimizers tensors to device\n",
        "    for param in gen_optim.state.values():\n",
        "      if isinstance(param, torch.Tensor):\n",
        "        param.data = param.data.to(device)\n",
        "      if isinstance(param, dict):\n",
        "        for sub_param in param.values():\n",
        "          if isinstance(sub_param, torch.Tensor):\n",
        "            sub_param.data = sub_param.data.to(device)\n",
        "\n",
        "    for param in disc_optim.state.values():\n",
        "      if isinstance(param, torch.Tensor):\n",
        "        param.data = param.data.to(device)\n",
        "      if isinstance(param, dict):\n",
        "        for sub_param in param.values():\n",
        "          if isinstance(sub_param, torch.Tensor):\n",
        "            sub_param.data = sub_param.data.to(device)\n",
        "\n",
        "  except FileNotFoundError:\n",
        "    print('ERROR: NO CHECKPOINT FILE FOUND. Using default QGAN.')\n",
        "  except:\n",
        "    print('ERROR WHILE LOADING PRE-TRAINED QGAN WEIGHTS: Using default QGAN.')\n",
        "\n",
        "  if load_eval_mode:\n",
        "    return netQG, netD\n",
        "  else:\n",
        "    return netQG, gen_optim, netD, disc_optim"
      ]
    },
    {
      "cell_type": "code",
      "execution_count": null,
      "metadata": {
        "colab": {
          "base_uri": "https://localhost:8080/",
          "height": 1000
        },
        "id": "vpaeBhXCwhAU",
        "outputId": "9fbb40e8-e15d-4ca1-bd44-8650d87e4fd5"
      },
      "outputs": [],
      "source": [
        "batch_size=2\n",
        "trainloader = torch.utils.data.DataLoader(trainset, batch_size=batch_size, shuffle=True)\n",
        "\n",
        "# load pre-trained models if available\n",
        "autoenc = load_autoencoder(load_eval_mode=True)\n",
        "netQG, gen_optim, netD, disc_optim = load_qgan(load_eval_mode=False)\n",
        "\n",
        "autoenc.eval()\n",
        "autoenc = autoenc.to(device)\n",
        "netD = netD.to(device)\n",
        "netQG = netQG.to(device)\n",
        "\n",
        "loss_fn = nn.BCELoss()\n",
        "\n",
        "# Training loop\n",
        "num_epochs=5\n",
        "total_batches=50\n",
        "log_after_batches=10\n",
        "\n",
        "for epoch in range(1,num_epochs+1):\n",
        "  print(f\"Epoch {epoch}/{num_epochs}\\n = = = = = = = = = = = = = = =\")\n",
        "  for i, (images, labels) in enumerate(trainloader):\n",
        "    # load data to device\n",
        "    images = images.to(device)\n",
        "    labels = labels.to(device)\n",
        "\n",
        "    ########################\n",
        "    # discriminator update #\n",
        "    ########################\n",
        "    netD.train()\n",
        "\n",
        "    #sample random noise\n",
        "    noise = torch.rand((batch_size, netQG.num_circuits,netQG.num_qubits), device=device)*(2 * torch.pi)\n",
        "\n",
        "    # generate fake data\n",
        "    latent_fake = netQG(noise).unsqueeze(1).to(device)\n",
        "\n",
        "    # extract latent of true images\n",
        "    latent_true = autoenc.encode(images)\n",
        "\n",
        "    # create batch with real and fake data\n",
        "    batch = torch.cat((latent_true, latent_fake.detach()))\n",
        "\n",
        "    # label smoothing (0.9 instead of 1.0; 0.1 instead of 0.)\n",
        "    real_labels = torch.full((batch_size, 1), 0.9, device=device)\n",
        "    fake_labels = torch.full((batch_size, 1), 0.1, device=device)\n",
        "    true_labels = torch.cat((real_labels, fake_labels), dim=0).to(device)\n",
        "\n",
        "    # forward pass of the discriminator\n",
        "    disc_output = netD(batch)\n",
        "\n",
        "    # compute discriminator loss\n",
        "    disc_loss = loss_fn(disc_output, true_labels)\n",
        "\n",
        "    # update discriminator\n",
        "    disc_optim.zero_grad()\n",
        "    disc_loss.backward()\n",
        "    disc_optim.step()\n",
        "\n",
        "\n",
        "    ####################\n",
        "    # generator update #\n",
        "    ####################\n",
        "    netD.eval()\n",
        "\n",
        "    # compute generator loss\n",
        "    gen_loss = (-torch.log(netD(latent_fake))).mean()\n",
        "\n",
        "    # update generator\n",
        "    gen_optim.zero_grad()\n",
        "    gen_loss.backward()\n",
        "    gen_optim.step()\n",
        "\n",
        "    # log results and show generated images\n",
        "    if i%log_after_batches==0:\n",
        "      fake_img = autoenc.decode(latent_fake)\n",
        "\n",
        "      fig, axes = plt.subplots(1, 2)\n",
        "      axes[0].imshow(fake_img[0].detach().cpu().permute(1,2,0).numpy(), cmap='gray')\n",
        "      axes[0].axis(\"off\")\n",
        "      axes[1].imshow(fake_img[1].detach().cpu().permute(1,2,0).numpy(), cmap='gray')\n",
        "      axes[1].axis(\"off\")\n",
        "      plt.show()\n",
        "      print(f'epoch {epoch}/{num_epochs} - [{i}/{total_batches}]\\t GEN loss: {gen_loss.item():.4f}, DISC loss: {disc_loss.item():.4f}')\n",
        "\n",
        "    if i==total_batches:\n",
        "      break\n",
        "\n",
        "  # save model checkpoint\n",
        "  torch.save({'gen_state_dict': netQG.state_dict(),\n",
        "              'gen_optim_state_dict': gen_optim.state_dict(),\n",
        "              'disc_state_dict': netD.state_dict(),\n",
        "              'disc_optim_state_dict': disc_optim.state_dict()},\n",
        "              'qgan_checkpoint.pth')\n",
        "  print(f'GEN loss: {gen_loss:.4f}, DISC loss: {disc_loss.item():.4f}\\n')"
      ]
    },
    {
      "cell_type": "markdown",
      "metadata": {
        "id": "Ld8vE4kRuTT7"
      },
      "source": [
        "# Demo"
      ]
    },
    {
      "cell_type": "code",
      "execution_count": null,
      "metadata": {
        "colab": {
          "base_uri": "https://localhost:8080/",
          "height": 447
        },
        "id": "dnV7lbUED1si",
        "outputId": "a751dc57-47aa-4c72-97ed-70c0c9a37cf1"
      },
      "outputs": [],
      "source": [
        "# create q-GAN (eventually import pre-trained one)\n",
        "netQG, netD = load_qgan(load_eval_mode=True)\n",
        "\n",
        "# create autoencoder (eventually import pre-trained one)\n",
        "autoencoder = load_autoencoder(load_eval_mode=True)\n",
        "\n",
        "# sample random noise\n",
        "noise = torch.rand((1, netQG.num_circuits, netQG.num_qubits))\n",
        "\n",
        "# perform forward pass of q-generator\n",
        "result = netQG(noise)\n",
        "\n",
        "# evaluate results with discriminator\n",
        "disc_output = netD(result)\n",
        "\n",
        "# map to pixel-space using the decoder\n",
        "decoded = autoencoder.decode(result)\n",
        "\n",
        "# show resulting image\n",
        "plt.imshow(decoded[0].detach().cpu().permute(1,2,0).numpy(), cmap='gray')\n",
        "plt.show()"
      ]
    }
  ],
  "metadata": {
    "accelerator": "GPU",
    "colab": {
      "collapsed_sections": [
        "RvFnuxLcl9ud"
      ],
      "gpuType": "T4",
      "provenance": []
    },
    "kernelspec": {
      "display_name": "ml",
      "language": "python",
      "name": "python3"
    },
    "language_info": {
      "codemirror_mode": {
        "name": "ipython",
        "version": 3
      },
      "file_extension": ".py",
      "mimetype": "text/x-python",
      "name": "python",
      "nbconvert_exporter": "python",
      "pygments_lexer": "ipython3",
      "version": "3.10.9"
    }
  },
  "nbformat": 4,
  "nbformat_minor": 0
}
